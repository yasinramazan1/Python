{
 "cells": [
  {
   "cell_type": "code",
   "execution_count": 2,
   "id": "b6ae0ee8",
   "metadata": {},
   "outputs": [],
   "source": [
    "import matplotlib.pyplot as plt\n",
    "import numpy as np"
   ]
  },
  {
   "cell_type": "code",
   "execution_count": 6,
   "id": "39034328",
   "metadata": {},
   "outputs": [
    {
     "data": {
      "text/plain": [
       "array([  60.,  153.,  201.,  115.,  183.,  163.,   54.,   -2.,  368.,\n",
       "        103.,  161.,  215.,  386.,  -98.,    4.,  261., -170.,   58.,\n",
       "        229.,  -82.,   18.,  -66.,  133.,  173.,  213.,  271.,    4.,\n",
       "         62.,  -87.,   10.,  301.,  134., -105.,  257.,  -44.,   87.,\n",
       "         -9.,  105.,  341.,  276.])"
      ]
     },
     "execution_count": 6,
     "metadata": {},
     "output_type": "execute_result"
    }
   ],
   "source": [
    "x = np.random.normal(100,150,40) # (a,b,c) = (merkez, ölçek, sayı miktarı)\n",
    "x = x.round()\n",
    "x"
   ]
  },
  {
   "cell_type": "code",
   "execution_count": 13,
   "id": "06a0545d",
   "metadata": {},
   "outputs": [
    {
     "data": {
      "image/png": "[encoded data removed]",
      "text/plain": [
       "<Figure size 432x288 with 1 Axes>"
      ]
     },
     "metadata": {
      "needs_background": "light"
     },
     "output_type": "display_data"
    }
   ],
   "source": [
    "plt.hist(x, color=\"purple\")\n",
    "plt.show()"
   ]
  },
  {
   "cell_type": "code",
   "execution_count": null,
   "id": "d09e081f",
   "metadata": {},
   "outputs": [],
   "source": []
  }
 ],
 "metadata": {
  "kernelspec": {
   "display_name": "Python 3 (ipykernel)",
   "language": "python",
   "name": "python3"
  },
  "language_info": {
   "codemirror_mode": {
    "name": "ipython",
    "version": 3
   },
   "file_extension": ".py",
   "mimetype": "text/x-python",
   "name": "python",
   "nbconvert_exporter": "python",
   "pygments_lexer": "ipython3",
   "version": "3.9.12"
  }
 },
 "nbformat": 4,
 "nbformat_minor": 5
}
