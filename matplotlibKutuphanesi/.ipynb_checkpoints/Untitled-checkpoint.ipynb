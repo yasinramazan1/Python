{
 "cells": [
  {
   "cell_type": "code",
   "execution_count": 1,
   "id": "d32b083b",
   "metadata": {},
   "outputs": [],
   "source": [
    "import pandas as pd\n",
    "import matplotlib.pyplot as plt\n",
    "import numpy as np "
   ]
  },
  {
   "cell_type": "code",
   "execution_count": 3,
   "id": "d44bb7b5",
   "metadata": {},
   "outputs": [
    {
     "data": {
      "text/html": [
       "<div>\n",
       "<style scoped>\n",
       "    .dataframe tbody tr th:only-of-type {\n",
       "        vertical-align: middle;\n",
       "    }\n",
       "\n",
       "    .dataframe tbody tr th {\n",
       "        vertical-align: top;\n",
       "    }\n",
       "\n",
       "    .dataframe thead th {\n",
       "        text-align: right;\n",
       "    }\n",
       "</style>\n",
       "<table border=\"1\" class=\"dataframe\">\n",
       "  <thead>\n",
       "    <tr style=\"text-align: right;\">\n",
       "      <th></th>\n",
       "      <th>title</th>\n",
       "      <th>director</th>\n",
       "      <th>cast</th>\n",
       "      <th>country</th>\n",
       "      <th>duration</th>\n",
       "    </tr>\n",
       "  </thead>\n",
       "  <tbody>\n",
       "    <tr>\n",
       "      <th>0</th>\n",
       "      <td>3%</td>\n",
       "      <td>NaN</td>\n",
       "      <td>João Miguel, Bianca Comparato, Michel Gomes, R...</td>\n",
       "      <td>Brazil</td>\n",
       "      <td>4 Seasons</td>\n",
       "    </tr>\n",
       "    <tr>\n",
       "      <th>1</th>\n",
       "      <td>7:19</td>\n",
       "      <td>Jorge Michel Grau</td>\n",
       "      <td>Demián Bichir, Héctor Bonilla, Oscar Serrano, ...</td>\n",
       "      <td>Mexico</td>\n",
       "      <td>93 min</td>\n",
       "    </tr>\n",
       "    <tr>\n",
       "      <th>2</th>\n",
       "      <td>23:59</td>\n",
       "      <td>Gilbert Chan</td>\n",
       "      <td>Tedd Chan, Stella Chung, Henley Hii, Lawrence ...</td>\n",
       "      <td>Singapore</td>\n",
       "      <td>78 min</td>\n",
       "    </tr>\n",
       "    <tr>\n",
       "      <th>3</th>\n",
       "      <td>9</td>\n",
       "      <td>Shane Acker</td>\n",
       "      <td>Elijah Wood, John C. Reilly, Jennifer Connelly...</td>\n",
       "      <td>United States</td>\n",
       "      <td>80 min</td>\n",
       "    </tr>\n",
       "    <tr>\n",
       "      <th>4</th>\n",
       "      <td>21</td>\n",
       "      <td>Robert Luketic</td>\n",
       "      <td>Jim Sturgess, Kevin Spacey, Kate Bosworth, Aar...</td>\n",
       "      <td>United States</td>\n",
       "      <td>123 min</td>\n",
       "    </tr>\n",
       "    <tr>\n",
       "      <th>...</th>\n",
       "      <td>...</td>\n",
       "      <td>...</td>\n",
       "      <td>...</td>\n",
       "      <td>...</td>\n",
       "      <td>...</td>\n",
       "    </tr>\n",
       "    <tr>\n",
       "      <th>7782</th>\n",
       "      <td>Zozo</td>\n",
       "      <td>Josef Fares</td>\n",
       "      <td>Imad Creidi, Antoinette Turk, Elias Gergi, Car...</td>\n",
       "      <td>Sweden, Czech Republic, United Kingdom, Denmar...</td>\n",
       "      <td>99 min</td>\n",
       "    </tr>\n",
       "    <tr>\n",
       "      <th>7783</th>\n",
       "      <td>Zubaan</td>\n",
       "      <td>Mozez Singh</td>\n",
       "      <td>Vicky Kaushal, Sarah-Jane Dias, Raaghav Chanan...</td>\n",
       "      <td>India</td>\n",
       "      <td>111 min</td>\n",
       "    </tr>\n",
       "    <tr>\n",
       "      <th>7784</th>\n",
       "      <td>Zulu Man in Japan</td>\n",
       "      <td>NaN</td>\n",
       "      <td>Nasty C</td>\n",
       "      <td>NaN</td>\n",
       "      <td>44 min</td>\n",
       "    </tr>\n",
       "    <tr>\n",
       "      <th>7785</th>\n",
       "      <td>Zumbo's Just Desserts</td>\n",
       "      <td>NaN</td>\n",
       "      <td>Adriano Zumbo, Rachel Khoo</td>\n",
       "      <td>Australia</td>\n",
       "      <td>1 Season</td>\n",
       "    </tr>\n",
       "    <tr>\n",
       "      <th>7786</th>\n",
       "      <td>ZZ TOP: THAT LITTLE OL' BAND FROM TEXAS</td>\n",
       "      <td>Sam Dunn</td>\n",
       "      <td>NaN</td>\n",
       "      <td>United Kingdom, Canada, United States</td>\n",
       "      <td>90 min</td>\n",
       "    </tr>\n",
       "  </tbody>\n",
       "</table>\n",
       "<p>7787 rows × 5 columns</p>\n",
       "</div>"
      ],
      "text/plain": [
       "                                        title           director  \\\n",
       "0                                          3%                NaN   \n",
       "1                                        7:19  Jorge Michel Grau   \n",
       "2                                       23:59       Gilbert Chan   \n",
       "3                                           9        Shane Acker   \n",
       "4                                          21     Robert Luketic   \n",
       "...                                       ...                ...   \n",
       "7782                                     Zozo        Josef Fares   \n",
       "7783                                   Zubaan        Mozez Singh   \n",
       "7784                        Zulu Man in Japan                NaN   \n",
       "7785                    Zumbo's Just Desserts                NaN   \n",
       "7786  ZZ TOP: THAT LITTLE OL' BAND FROM TEXAS           Sam Dunn   \n",
       "\n",
       "                                                   cast  \\\n",
       "0     João Miguel, Bianca Comparato, Michel Gomes, R...   \n",
       "1     Demián Bichir, Héctor Bonilla, Oscar Serrano, ...   \n",
       "2     Tedd Chan, Stella Chung, Henley Hii, Lawrence ...   \n",
       "3     Elijah Wood, John C. Reilly, Jennifer Connelly...   \n",
       "4     Jim Sturgess, Kevin Spacey, Kate Bosworth, Aar...   \n",
       "...                                                 ...   \n",
       "7782  Imad Creidi, Antoinette Turk, Elias Gergi, Car...   \n",
       "7783  Vicky Kaushal, Sarah-Jane Dias, Raaghav Chanan...   \n",
       "7784                                            Nasty C   \n",
       "7785                         Adriano Zumbo, Rachel Khoo   \n",
       "7786                                                NaN   \n",
       "\n",
       "                                                country   duration  \n",
       "0                                                Brazil  4 Seasons  \n",
       "1                                                Mexico     93 min  \n",
       "2                                             Singapore     78 min  \n",
       "3                                         United States     80 min  \n",
       "4                                         United States    123 min  \n",
       "...                                                 ...        ...  \n",
       "7782  Sweden, Czech Republic, United Kingdom, Denmar...     99 min  \n",
       "7783                                              India    111 min  \n",
       "7784                                                NaN     44 min  \n",
       "7785                                          Australia   1 Season  \n",
       "7786              United Kingdom, Canada, United States     90 min  \n",
       "\n",
       "[7787 rows x 5 columns]"
      ]
     },
     "execution_count": 3,
     "metadata": {},
     "output_type": "execute_result"
    }
   ],
   "source": [
    "data = pd.read_csv(\"netflix.csv\")\n",
    "data"
   ]
  },
  {
   "cell_type": "code",
   "execution_count": 4,
   "id": "b7f535e7",
   "metadata": {},
   "outputs": [
    {
     "data": {
      "text/html": [
       "<div>\n",
       "<style scoped>\n",
       "    .dataframe tbody tr th:only-of-type {\n",
       "        vertical-align: middle;\n",
       "    }\n",
       "\n",
       "    .dataframe tbody tr th {\n",
       "        vertical-align: top;\n",
       "    }\n",
       "\n",
       "    .dataframe thead th {\n",
       "        text-align: right;\n",
       "    }\n",
       "</style>\n",
       "<table border=\"1\" class=\"dataframe\">\n",
       "  <thead>\n",
       "    <tr style=\"text-align: right;\">\n",
       "      <th></th>\n",
       "      <th>title</th>\n",
       "      <th>director</th>\n",
       "      <th>cast</th>\n",
       "      <th>country</th>\n",
       "      <th>duration</th>\n",
       "    </tr>\n",
       "  </thead>\n",
       "  <tbody>\n",
       "    <tr>\n",
       "      <th>0</th>\n",
       "      <td>3%</td>\n",
       "      <td>NaN</td>\n",
       "      <td>João Miguel, Bianca Comparato, Michel Gomes, R...</td>\n",
       "      <td>Brazil</td>\n",
       "      <td>4 Seasons</td>\n",
       "    </tr>\n",
       "    <tr>\n",
       "      <th>1</th>\n",
       "      <td>7:19</td>\n",
       "      <td>Jorge Michel Grau</td>\n",
       "      <td>Demián Bichir, Héctor Bonilla, Oscar Serrano, ...</td>\n",
       "      <td>Mexico</td>\n",
       "      <td>93 min</td>\n",
       "    </tr>\n",
       "    <tr>\n",
       "      <th>2</th>\n",
       "      <td>23:59</td>\n",
       "      <td>Gilbert Chan</td>\n",
       "      <td>Tedd Chan, Stella Chung, Henley Hii, Lawrence ...</td>\n",
       "      <td>Singapore</td>\n",
       "      <td>78 min</td>\n",
       "    </tr>\n",
       "    <tr>\n",
       "      <th>3</th>\n",
       "      <td>9</td>\n",
       "      <td>Shane Acker</td>\n",
       "      <td>Elijah Wood, John C. Reilly, Jennifer Connelly...</td>\n",
       "      <td>United States</td>\n",
       "      <td>80 min</td>\n",
       "    </tr>\n",
       "    <tr>\n",
       "      <th>4</th>\n",
       "      <td>21</td>\n",
       "      <td>Robert Luketic</td>\n",
       "      <td>Jim Sturgess, Kevin Spacey, Kate Bosworth, Aar...</td>\n",
       "      <td>United States</td>\n",
       "      <td>123 min</td>\n",
       "    </tr>\n",
       "  </tbody>\n",
       "</table>\n",
       "</div>"
      ],
      "text/plain": [
       "   title           director  \\\n",
       "0     3%                NaN   \n",
       "1   7:19  Jorge Michel Grau   \n",
       "2  23:59       Gilbert Chan   \n",
       "3      9        Shane Acker   \n",
       "4     21     Robert Luketic   \n",
       "\n",
       "                                                cast        country   duration  \n",
       "0  João Miguel, Bianca Comparato, Michel Gomes, R...         Brazil  4 Seasons  \n",
       "1  Demián Bichir, Héctor Bonilla, Oscar Serrano, ...         Mexico     93 min  \n",
       "2  Tedd Chan, Stella Chung, Henley Hii, Lawrence ...      Singapore     78 min  \n",
       "3  Elijah Wood, John C. Reilly, Jennifer Connelly...  United States     80 min  \n",
       "4  Jim Sturgess, Kevin Spacey, Kate Bosworth, Aar...  United States    123 min  "
      ]
     },
     "execution_count": 4,
     "metadata": {},
     "output_type": "execute_result"
    }
   ],
   "source": [
    "data = pd.read_csv(\"netflix.csv\")\n",
    "data.head()"
   ]
  },
  {
   "cell_type": "code",
   "execution_count": 5,
   "id": "3668db03",
   "metadata": {},
   "outputs": [
    {
     "data": {
      "text/plain": [
       "(7787, 5)"
      ]
     },
     "execution_count": 5,
     "metadata": {},
     "output_type": "execute_result"
    }
   ],
   "source": [
    "data.shape"
   ]
  },
  {
   "cell_type": "code",
   "execution_count": 6,
   "id": "46532abd",
   "metadata": {},
   "outputs": [
    {
     "name": "stdout",
     "output_type": "stream",
     "text": [
      "Bu veride 7787 satır ve 5 kolon vardır.\n"
     ]
    }
   ],
   "source": [
    "print(\"Bu veride {} satır ve {} kolon vardır.\".format(data.shape[0], data.shape[1]))"
   ]
  },
  {
   "cell_type": "code",
   "execution_count": 7,
   "id": "fcd5b16a",
   "metadata": {},
   "outputs": [
    {
     "name": "stdout",
     "output_type": "stream",
     "text": [
      "<class 'pandas.core.frame.DataFrame'>\n",
      "RangeIndex: 7787 entries, 0 to 7786\n",
      "Data columns (total 5 columns):\n",
      " #   Column    Non-Null Count  Dtype \n",
      "---  ------    --------------  ----- \n",
      " 0   title     7787 non-null   object\n",
      " 1   director  5398 non-null   object\n",
      " 2   cast      7069 non-null   object\n",
      " 3   country   7280 non-null   object\n",
      " 4   duration  7787 non-null   object\n",
      "dtypes: object(5)\n",
      "memory usage: 304.3+ KB\n"
     ]
    }
   ],
   "source": [
    "data.info()"
   ]
  },
  {
   "cell_type": "code",
   "execution_count": 8,
   "id": "5f25242a",
   "metadata": {},
   "outputs": [
    {
     "data": {
      "text/html": [
       "<div>\n",
       "<style scoped>\n",
       "    .dataframe tbody tr th:only-of-type {\n",
       "        vertical-align: middle;\n",
       "    }\n",
       "\n",
       "    .dataframe tbody tr th {\n",
       "        vertical-align: top;\n",
       "    }\n",
       "\n",
       "    .dataframe thead th {\n",
       "        text-align: right;\n",
       "    }\n",
       "</style>\n",
       "<table border=\"1\" class=\"dataframe\">\n",
       "  <thead>\n",
       "    <tr style=\"text-align: right;\">\n",
       "      <th></th>\n",
       "      <th>title</th>\n",
       "      <th>director</th>\n",
       "      <th>cast</th>\n",
       "      <th>country</th>\n",
       "      <th>duration</th>\n",
       "    </tr>\n",
       "  </thead>\n",
       "  <tbody>\n",
       "    <tr>\n",
       "      <th>0</th>\n",
       "      <td>False</td>\n",
       "      <td>True</td>\n",
       "      <td>False</td>\n",
       "      <td>False</td>\n",
       "      <td>False</td>\n",
       "    </tr>\n",
       "    <tr>\n",
       "      <th>1</th>\n",
       "      <td>False</td>\n",
       "      <td>False</td>\n",
       "      <td>False</td>\n",
       "      <td>False</td>\n",
       "      <td>False</td>\n",
       "    </tr>\n",
       "    <tr>\n",
       "      <th>2</th>\n",
       "      <td>False</td>\n",
       "      <td>False</td>\n",
       "      <td>False</td>\n",
       "      <td>False</td>\n",
       "      <td>False</td>\n",
       "    </tr>\n",
       "    <tr>\n",
       "      <th>3</th>\n",
       "      <td>False</td>\n",
       "      <td>False</td>\n",
       "      <td>False</td>\n",
       "      <td>False</td>\n",
       "      <td>False</td>\n",
       "    </tr>\n",
       "    <tr>\n",
       "      <th>4</th>\n",
       "      <td>False</td>\n",
       "      <td>False</td>\n",
       "      <td>False</td>\n",
       "      <td>False</td>\n",
       "      <td>False</td>\n",
       "    </tr>\n",
       "    <tr>\n",
       "      <th>...</th>\n",
       "      <td>...</td>\n",
       "      <td>...</td>\n",
       "      <td>...</td>\n",
       "      <td>...</td>\n",
       "      <td>...</td>\n",
       "    </tr>\n",
       "    <tr>\n",
       "      <th>7782</th>\n",
       "      <td>False</td>\n",
       "      <td>False</td>\n",
       "      <td>False</td>\n",
       "      <td>False</td>\n",
       "      <td>False</td>\n",
       "    </tr>\n",
       "    <tr>\n",
       "      <th>7783</th>\n",
       "      <td>False</td>\n",
       "      <td>False</td>\n",
       "      <td>False</td>\n",
       "      <td>False</td>\n",
       "      <td>False</td>\n",
       "    </tr>\n",
       "    <tr>\n",
       "      <th>7784</th>\n",
       "      <td>False</td>\n",
       "      <td>True</td>\n",
       "      <td>False</td>\n",
       "      <td>True</td>\n",
       "      <td>False</td>\n",
       "    </tr>\n",
       "    <tr>\n",
       "      <th>7785</th>\n",
       "      <td>False</td>\n",
       "      <td>True</td>\n",
       "      <td>False</td>\n",
       "      <td>False</td>\n",
       "      <td>False</td>\n",
       "    </tr>\n",
       "    <tr>\n",
       "      <th>7786</th>\n",
       "      <td>False</td>\n",
       "      <td>False</td>\n",
       "      <td>True</td>\n",
       "      <td>False</td>\n",
       "      <td>False</td>\n",
       "    </tr>\n",
       "  </tbody>\n",
       "</table>\n",
       "<p>7787 rows × 5 columns</p>\n",
       "</div>"
      ],
      "text/plain": [
       "      title  director   cast  country  duration\n",
       "0     False      True  False    False     False\n",
       "1     False     False  False    False     False\n",
       "2     False     False  False    False     False\n",
       "3     False     False  False    False     False\n",
       "4     False     False  False    False     False\n",
       "...     ...       ...    ...      ...       ...\n",
       "7782  False     False  False    False     False\n",
       "7783  False     False  False    False     False\n",
       "7784  False      True  False     True     False\n",
       "7785  False      True  False    False     False\n",
       "7786  False     False   True    False     False\n",
       "\n",
       "[7787 rows x 5 columns]"
      ]
     },
     "execution_count": 8,
     "metadata": {},
     "output_type": "execute_result"
    }
   ],
   "source": [
    "data.isnull()"
   ]
  },
  {
   "cell_type": "code",
   "execution_count": 9,
   "id": "414dae5c",
   "metadata": {},
   "outputs": [
    {
     "data": {
      "text/plain": [
       "title          0\n",
       "director    2389\n",
       "cast         718\n",
       "country      507\n",
       "duration       0\n",
       "dtype: int64"
      ]
     },
     "execution_count": 9,
     "metadata": {},
     "output_type": "execute_result"
    }
   ],
   "source": [
    "data.isnull().sum()"
   ]
  },
  {
   "cell_type": "code",
   "execution_count": 10,
   "id": "3e34873a",
   "metadata": {},
   "outputs": [
    {
     "data": {
      "text/plain": [
       "0                                                  Brazil\n",
       "1                                                  Mexico\n",
       "2                                               Singapore\n",
       "3                                           United States\n",
       "4                                           United States\n",
       "                              ...                        \n",
       "7782    Sweden, Czech Republic, United Kingdom, Denmar...\n",
       "7783                                                India\n",
       "7784                                                  NaN\n",
       "7785                                            Australia\n",
       "7786                United Kingdom, Canada, United States\n",
       "Name: country, Length: 7787, dtype: object"
      ]
     },
     "execution_count": 10,
     "metadata": {},
     "output_type": "execute_result"
    }
   ],
   "source": [
    "data[\"country\"]"
   ]
  },
  {
   "cell_type": "code",
   "execution_count": 11,
   "id": "60cc97ab",
   "metadata": {},
   "outputs": [
    {
     "data": {
      "text/plain": [
       "7280"
      ]
     },
     "execution_count": 11,
     "metadata": {},
     "output_type": "execute_result"
    }
   ],
   "source": [
    "data[\"country\"].count()"
   ]
  },
  {
   "cell_type": "code",
   "execution_count": 15,
   "id": "87cc392e",
   "metadata": {},
   "outputs": [
    {
     "data": {
      "text/plain": [
       "United States                    2555\n",
       "India                             923\n",
       "United Kingdom                    397\n",
       "Japan                             226\n",
       "South Korea                       183\n",
       "Canada                            177\n",
       "Spain                             134\n",
       "France                            115\n",
       "Egypt                             101\n",
       "Turkey                            100\n",
       "Mexico                            100\n",
       "Australia                          83\n",
       "Taiwan                             78\n",
       "Brazil                             72\n",
       "Philippines                        71\n",
       "Nigeria                            70\n",
       "Indonesia                          70\n",
       "United Kingdom, United States      64\n",
       "Germany                            61\n",
       "United States, Canada              60\n",
       "Name: country, dtype: int64"
      ]
     },
     "execution_count": 15,
     "metadata": {},
     "output_type": "execute_result"
    }
   ],
   "source": [
    "ülkeler =data[\"country\"].value_counts()\n",
    "ülkeler.head(20)"
   ]
  },
  {
   "cell_type": "code",
   "execution_count": 17,
   "id": "3935a462",
   "metadata": {},
   "outputs": [
    {
     "data": {
      "text/html": [
       "<div>\n",
       "<style scoped>\n",
       "    .dataframe tbody tr th:only-of-type {\n",
       "        vertical-align: middle;\n",
       "    }\n",
       "\n",
       "    .dataframe tbody tr th {\n",
       "        vertical-align: top;\n",
       "    }\n",
       "\n",
       "    .dataframe thead th {\n",
       "        text-align: right;\n",
       "    }\n",
       "</style>\n",
       "<table border=\"1\" class=\"dataframe\">\n",
       "  <thead>\n",
       "    <tr style=\"text-align: right;\">\n",
       "      <th></th>\n",
       "      <th>Yapım Sayısı</th>\n",
       "    </tr>\n",
       "  </thead>\n",
       "  <tbody>\n",
       "    <tr>\n",
       "      <th>United States</th>\n",
       "      <td>2555</td>\n",
       "    </tr>\n",
       "    <tr>\n",
       "      <th>India</th>\n",
       "      <td>923</td>\n",
       "    </tr>\n",
       "    <tr>\n",
       "      <th>United Kingdom</th>\n",
       "      <td>397</td>\n",
       "    </tr>\n",
       "    <tr>\n",
       "      <th>Japan</th>\n",
       "      <td>226</td>\n",
       "    </tr>\n",
       "    <tr>\n",
       "      <th>South Korea</th>\n",
       "      <td>183</td>\n",
       "    </tr>\n",
       "    <tr>\n",
       "      <th>Canada</th>\n",
       "      <td>177</td>\n",
       "    </tr>\n",
       "    <tr>\n",
       "      <th>Spain</th>\n",
       "      <td>134</td>\n",
       "    </tr>\n",
       "    <tr>\n",
       "      <th>France</th>\n",
       "      <td>115</td>\n",
       "    </tr>\n",
       "    <tr>\n",
       "      <th>Egypt</th>\n",
       "      <td>101</td>\n",
       "    </tr>\n",
       "    <tr>\n",
       "      <th>Turkey</th>\n",
       "      <td>100</td>\n",
       "    </tr>\n",
       "    <tr>\n",
       "      <th>Mexico</th>\n",
       "      <td>100</td>\n",
       "    </tr>\n",
       "    <tr>\n",
       "      <th>Australia</th>\n",
       "      <td>83</td>\n",
       "    </tr>\n",
       "  </tbody>\n",
       "</table>\n",
       "</div>"
      ],
      "text/plain": [
       "                Yapım Sayısı\n",
       "United States           2555\n",
       "India                    923\n",
       "United Kingdom           397\n",
       "Japan                    226\n",
       "South Korea              183\n",
       "Canada                   177\n",
       "Spain                    134\n",
       "France                   115\n",
       "Egypt                    101\n",
       "Turkey                   100\n",
       "Mexico                   100\n",
       "Australia                 83"
      ]
     },
     "execution_count": 17,
     "metadata": {},
     "output_type": "execute_result"
    }
   ],
   "source": [
    "ülkeler = pd.DataFrame({\"Yapım Sayısı\":data[\"country\"].value_counts()})\n",
    "ülkeler.head(12)"
   ]
  },
  {
   "cell_type": "markdown",
   "id": "ab2849f4",
   "metadata": {},
   "source": [
    "##  Yapım Sayısı Grafikleri"
   ]
  },
  {
   "cell_type": "code",
   "execution_count": 22,
   "id": "01145384",
   "metadata": {},
   "outputs": [
    {
     "data": {
      "text/plain": [
       "Index(['United States', 'India', 'United Kingdom', 'Japan', 'South Korea',\n",
       "       'Canada', 'Spain', 'France', 'Egypt', 'Turkey',\n",
       "       ...\n",
       "       'United States, South Korea, Japan',\n",
       "       'Lebanon, United Arab Emirates, France, Switzerland, Germany',\n",
       "       'France, Australia, Germany', 'Ireland, United States',\n",
       "       'United States, Canada, Germany', 'Russia, United States, China',\n",
       "       'Italy, Switzerland, France, Germany',\n",
       "       'United States, United Kingdom, Canada',\n",
       "       'United States, United Kingdom, Japan',\n",
       "       'Sweden, Czech Republic, United Kingdom, Denmark, Netherlands'],\n",
       "      dtype='object', length=681)"
      ]
     },
     "execution_count": 22,
     "metadata": {},
     "output_type": "execute_result"
    }
   ],
   "source": [
    "ülkeler.index\n"
   ]
  },
  {
   "cell_type": "code",
   "execution_count": 23,
   "id": "190cfc89",
   "metadata": {},
   "outputs": [
    {
     "data": {
      "text/plain": [
       "Index(['United States', 'India', 'United Kingdom', 'Japan', 'South Korea',\n",
       "       'Canada', 'Spain', 'France', 'Egypt', 'Turkey', 'Mexico', 'Australia'],\n",
       "      dtype='object')"
      ]
     },
     "execution_count": 23,
     "metadata": {},
     "output_type": "execute_result"
    }
   ],
   "source": [
    "x=ülkeler.index\n",
    "x=x[0:12] # ilk 12 ülke\n",
    "x"
   ]
  },
  {
   "cell_type": "code",
   "execution_count": 24,
   "id": "edfa6624",
   "metadata": {},
   "outputs": [
    {
     "data": {
      "text/plain": [
       "United States     2555\n",
       "India              923\n",
       "United Kingdom     397\n",
       "Japan              226\n",
       "South Korea        183\n",
       "Canada             177\n",
       "Spain              134\n",
       "France             115\n",
       "Egypt              101\n",
       "Turkey             100\n",
       "Mexico             100\n",
       "Australia           83\n",
       "Name: Yapım Sayısı, dtype: int64"
      ]
     },
     "execution_count": 24,
     "metadata": {},
     "output_type": "execute_result"
    }
   ],
   "source": [
    "y=ülkeler[\"Yapım Sayısı\"]\n",
    "y=y[0:12]\n",
    "y\n"
   ]
  },
  {
   "cell_type": "code",
   "execution_count": 27,
   "id": "8cc5d822",
   "metadata": {},
   "outputs": [
    {
     "data": {
      "image/png": "[encoded data removed]",
      "text/plain": [
       "<Figure size 1080x720 with 1 Axes>"
      ]
     },
     "metadata": {
      "needs_background": "light"
     },
     "output_type": "display_data"
    }
   ],
   "source": [
    "plt.figure(figsize=(15,10))\n",
    "plt.bar(x,y)\n",
    "plt.title(\"En Çok Netflix Yapımına Sahip 12 Ülke\")\n",
    "plt.show()"
   ]
  },
  {
   "cell_type": "code",
   "execution_count": 29,
   "id": "2f6cb094",
   "metadata": {},
   "outputs": [
    {
     "data": {
      "image/png": "[encoded data removed]",
      "text/plain": [
       "<Figure size 1080x720 with 1 Axes>"
      ]
     },
     "metadata": {
      "needs_background": "light"
     },
     "output_type": "display_data"
    }
   ],
   "source": [
    "x=ülkeler.index\n",
    "x=x[2:12] # ilk 2 ülkeyi almadan grafik oluşturuldu.\n",
    "x\n",
    "\n",
    "y=ülkeler[\"Yapım Sayısı\"]\n",
    "y=y[2:12]\n",
    "y\n",
    "\n",
    "plt.figure(figsize=(15,10))\n",
    "plt.bar(x,y)\n",
    "plt.title(\"En Çok Netflix Yapımına Sahip 12 Ülke\")\n",
    "plt.show()"
   ]
  },
  {
   "cell_type": "code",
   "execution_count": 31,
   "id": "5e757f46",
   "metadata": {},
   "outputs": [
    {
     "data": {
      "image/png": "[encoded data removed]",
      "text/plain": [
       "<Figure size 1080x720 with 1 Axes>"
      ]
     },
     "metadata": {
      "needs_background": "light"
     },
     "output_type": "display_data"
    }
   ],
   "source": [
    "x=ülkeler.index\n",
    "x=x[2:12] # ilk 2 ülkeyi almadan grafik oluşturuldu.\n",
    "x\n",
    "\n",
    "y=ülkeler[\"Yapım Sayısı\"]\n",
    "y=y[2:12]\n",
    "y\n",
    "\n",
    "plt.figure(figsize=(15,10))\n",
    "renk=[\"purple\",\"purple\",\"purple\",\"purple\",\"purple\",\"purple\",\"purple\",\"red\",\"purple\",\"purple\"]\n",
    "plt.bar(x,y,color=renk)\n",
    "plt.title(\"En Çok Netflix Yapımına Sahip 12 Ülke\")\n",
    "plt.show()"
   ]
  },
  {
   "cell_type": "markdown",
   "id": "1d58d76c",
   "metadata": {},
   "source": [
    "## Yerli Yapımlar"
   ]
  },
  {
   "cell_type": "code",
   "execution_count": 32,
   "id": "5a07c7b6",
   "metadata": {},
   "outputs": [
    {
     "data": {
      "text/html": [
       "<div>\n",
       "<style scoped>\n",
       "    .dataframe tbody tr th:only-of-type {\n",
       "        vertical-align: middle;\n",
       "    }\n",
       "\n",
       "    .dataframe tbody tr th {\n",
       "        vertical-align: top;\n",
       "    }\n",
       "\n",
       "    .dataframe thead th {\n",
       "        text-align: right;\n",
       "    }\n",
       "</style>\n",
       "<table border=\"1\" class=\"dataframe\">\n",
       "  <thead>\n",
       "    <tr style=\"text-align: right;\">\n",
       "      <th></th>\n",
       "      <th>title</th>\n",
       "      <th>director</th>\n",
       "      <th>cast</th>\n",
       "      <th>country</th>\n",
       "      <th>duration</th>\n",
       "    </tr>\n",
       "  </thead>\n",
       "  <tbody>\n",
       "    <tr>\n",
       "      <th>5</th>\n",
       "      <td>46</td>\n",
       "      <td>Serdar Akar</td>\n",
       "      <td>Erdal Beşikçioğlu, Yasemin Allen, Melis Birkan...</td>\n",
       "      <td>Turkey</td>\n",
       "      <td>1 Season</td>\n",
       "    </tr>\n",
       "    <tr>\n",
       "      <th>40</th>\n",
       "      <td>Çarsi Pazar</td>\n",
       "      <td>Muharrem Gülmez</td>\n",
       "      <td>Erdem Yener, Ayhan Taş, Emin Olcay, Muharrem G...</td>\n",
       "      <td>Turkey</td>\n",
       "      <td>97 min</td>\n",
       "    </tr>\n",
       "    <tr>\n",
       "      <th>42</th>\n",
       "      <td>Çok Filim Hareketler Bunlar</td>\n",
       "      <td>Ozan Açıktan</td>\n",
       "      <td>Ayça Erturan, Aydan Taş, Ayşegül Akdemir, Burc...</td>\n",
       "      <td>Turkey</td>\n",
       "      <td>99 min</td>\n",
       "    </tr>\n",
       "    <tr>\n",
       "      <th>45</th>\n",
       "      <td>Şubat</td>\n",
       "      <td>NaN</td>\n",
       "      <td>Alican Yücesoy, Melisa Sözen, Musa Uzunlar, Se...</td>\n",
       "      <td>Turkey</td>\n",
       "      <td>1 Season</td>\n",
       "    </tr>\n",
       "    <tr>\n",
       "      <th>80</th>\n",
       "      <td>20 Minutes</td>\n",
       "      <td>NaN</td>\n",
       "      <td>Tuba Büyüküstün, Ilker Aksum, Bülent Emin Yara...</td>\n",
       "      <td>Turkey</td>\n",
       "      <td>1 Season</td>\n",
       "    </tr>\n",
       "    <tr>\n",
       "      <th>...</th>\n",
       "      <td>...</td>\n",
       "      <td>...</td>\n",
       "      <td>...</td>\n",
       "      <td>...</td>\n",
       "      <td>...</td>\n",
       "    </tr>\n",
       "    <tr>\n",
       "      <th>7553</th>\n",
       "      <td>What Happens to My Family</td>\n",
       "      <td>NaN</td>\n",
       "      <td>Settar Tanrıöğen, Uraz Kaygılaroğlu, Berna Kor...</td>\n",
       "      <td>Turkey</td>\n",
       "      <td>1 Season</td>\n",
       "    </tr>\n",
       "    <tr>\n",
       "      <th>7637</th>\n",
       "      <td>Winter Sun</td>\n",
       "      <td>NaN</td>\n",
       "      <td>Şükrü Özyıldız, Aslı Enver, Şenay Gürler, Başa...</td>\n",
       "      <td>Turkey</td>\n",
       "      <td>1 Season</td>\n",
       "    </tr>\n",
       "    <tr>\n",
       "      <th>7651</th>\n",
       "      <td>Wolf</td>\n",
       "      <td>NaN</td>\n",
       "      <td>Ahu Türkpençe, Serkan Çayoğlu, Murat Arkin, Em...</td>\n",
       "      <td>Turkey</td>\n",
       "      <td>1 Season</td>\n",
       "    </tr>\n",
       "    <tr>\n",
       "      <th>7731</th>\n",
       "      <td>You're Everything To Me</td>\n",
       "      <td>Tolga Örnek</td>\n",
       "      <td>Tolga Çevik, Cengiz Bozkurt, Melis Birkan, Tun...</td>\n",
       "      <td>Turkey</td>\n",
       "      <td>107 min</td>\n",
       "    </tr>\n",
       "    <tr>\n",
       "      <th>7753</th>\n",
       "      <td>Yunus Emre</td>\n",
       "      <td>NaN</td>\n",
       "      <td>Gökhan Atalay, Payidar Tüfekçioglu, Baran Akbu...</td>\n",
       "      <td>Turkey</td>\n",
       "      <td>2 Seasons</td>\n",
       "    </tr>\n",
       "  </tbody>\n",
       "</table>\n",
       "<p>100 rows × 5 columns</p>\n",
       "</div>"
      ],
      "text/plain": [
       "                            title         director  \\\n",
       "5                              46      Serdar Akar   \n",
       "40                    Çarsi Pazar  Muharrem Gülmez   \n",
       "42    Çok Filim Hareketler Bunlar     Ozan Açıktan   \n",
       "45                          Şubat              NaN   \n",
       "80                     20 Minutes              NaN   \n",
       "...                           ...              ...   \n",
       "7553    What Happens to My Family              NaN   \n",
       "7637                   Winter Sun              NaN   \n",
       "7651                         Wolf              NaN   \n",
       "7731      You're Everything To Me      Tolga Örnek   \n",
       "7753                   Yunus Emre              NaN   \n",
       "\n",
       "                                                   cast country   duration  \n",
       "5     Erdal Beşikçioğlu, Yasemin Allen, Melis Birkan...  Turkey   1 Season  \n",
       "40    Erdem Yener, Ayhan Taş, Emin Olcay, Muharrem G...  Turkey     97 min  \n",
       "42    Ayça Erturan, Aydan Taş, Ayşegül Akdemir, Burc...  Turkey     99 min  \n",
       "45    Alican Yücesoy, Melisa Sözen, Musa Uzunlar, Se...  Turkey   1 Season  \n",
       "80    Tuba Büyüküstün, Ilker Aksum, Bülent Emin Yara...  Turkey   1 Season  \n",
       "...                                                 ...     ...        ...  \n",
       "7553  Settar Tanrıöğen, Uraz Kaygılaroğlu, Berna Kor...  Turkey   1 Season  \n",
       "7637  Şükrü Özyıldız, Aslı Enver, Şenay Gürler, Başa...  Turkey   1 Season  \n",
       "7651  Ahu Türkpençe, Serkan Çayoğlu, Murat Arkin, Em...  Turkey   1 Season  \n",
       "7731  Tolga Çevik, Cengiz Bozkurt, Melis Birkan, Tun...  Turkey    107 min  \n",
       "7753  Gökhan Atalay, Payidar Tüfekçioglu, Baran Akbu...  Turkey  2 Seasons  \n",
       "\n",
       "[100 rows x 5 columns]"
      ]
     },
     "execution_count": 32,
     "metadata": {},
     "output_type": "execute_result"
    }
   ],
   "source": [
    "yerli = data.loc[data[\"country\"]==\"Turkey\"]\n",
    "yerli"
   ]
  },
  {
   "cell_type": "code",
   "execution_count": 41,
   "id": "daeda576",
   "metadata": {},
   "outputs": [
    {
     "data": {
      "text/plain": [
       "Hakan Algül                             8\n",
       "Yılmaz Erdoğan                          7\n",
       "Ozan Açıktan                            6\n",
       "Kıvanç Baruönü                          5\n",
       "Hasan Karacadağ                         3\n",
       "Burak Aksak                             3\n",
       "Bedran Güzel                            3\n",
       "Şenol Sönmez                            2\n",
       "Ömer Faruk Sorak                        2\n",
       "Cem Yılmaz                              2\n",
       "Sermiyan Midyat                         2\n",
       "Serdar Akar                             1\n",
       "Seren Yüce                              1\n",
       "Tugçe Soysop                            1\n",
       "Yusuf Pirhasan                          1\n",
       "Onur Ünlü                               1\n",
       "Murat Kepez                             1\n",
       "Mehmet Ada Öztekin                      1\n",
       "Mahsun Kırmızıgül                       1\n",
       "Andaç Haznedaroğlu                      1\n",
       "Ketche                                  1\n",
       "Erol Özlevi                             1\n",
       "Hakan Yonat                             1\n",
       "Ali Yorgancıoğlu                        1\n",
       "Tolga Karaçelik                         1\n",
       "Yılmaz Erdoğan, Ömer Faruk Sorak        1\n",
       "Aytaç Ağırlar                           1\n",
       "Umut Aral                               1\n",
       "Ali Taner Baltacı, Cem Yılmaz           1\n",
       "Ali Taner Baltacı                       1\n",
       "Muharrem Gülmez                         1\n",
       "Neslihan Yesilyurt                      1\n",
       "Gupse Özay                              1\n",
       "Meltem Bozoflu                          1\n",
       "Selçuk Aydemir                          1\n",
       "Selçuk Aydemir, Birkan Pusa             1\n",
       "Handan İpekçi                           1\n",
       "Onur Bilgetay                           1\n",
       "Ahmet Katıksız                          1\n",
       "Muharrem Gülmez, Sırrı Süreyya Önder    1\n",
       "Müfit Can Saçıntı                       1\n",
       "Çagan Irmak                             1\n",
       "Umut Kirca                              1\n",
       "Tolga Örnek                             1\n",
       "Name: director, dtype: int64"
      ]
     },
     "execution_count": 41,
     "metadata": {},
     "output_type": "execute_result"
    }
   ],
   "source": [
    "yerli[\"director\"].value_counts()"
   ]
  },
  {
   "cell_type": "code",
   "execution_count": 33,
   "id": "e462e304",
   "metadata": {},
   "outputs": [
    {
     "data": {
      "text/html": [
       "<div>\n",
       "<style scoped>\n",
       "    .dataframe tbody tr th:only-of-type {\n",
       "        vertical-align: middle;\n",
       "    }\n",
       "\n",
       "    .dataframe tbody tr th {\n",
       "        vertical-align: top;\n",
       "    }\n",
       "\n",
       "    .dataframe thead th {\n",
       "        text-align: right;\n",
       "    }\n",
       "</style>\n",
       "<table border=\"1\" class=\"dataframe\">\n",
       "  <thead>\n",
       "    <tr style=\"text-align: right;\">\n",
       "      <th></th>\n",
       "      <th>title</th>\n",
       "      <th>director</th>\n",
       "      <th>cast</th>\n",
       "      <th>country</th>\n",
       "      <th>duration</th>\n",
       "    </tr>\n",
       "  </thead>\n",
       "  <tbody>\n",
       "    <tr>\n",
       "      <th>1941</th>\n",
       "      <td>Ekşi Elmalar</td>\n",
       "      <td>Yılmaz Erdoğan</td>\n",
       "      <td>Yılmaz Erdoğan, Farah Zeynep Abdullah, Songül ...</td>\n",
       "      <td>Turkey</td>\n",
       "      <td>109 min</td>\n",
       "    </tr>\n",
       "    <tr>\n",
       "      <th>3787</th>\n",
       "      <td>Love, Surreal and Odd</td>\n",
       "      <td>Yılmaz Erdoğan</td>\n",
       "      <td>Aylin Kontante, Bülent Emrah Parlak, Büşra Pek...</td>\n",
       "      <td>Turkey</td>\n",
       "      <td>95 min</td>\n",
       "    </tr>\n",
       "    <tr>\n",
       "      <th>4178</th>\n",
       "      <td>Money Trap</td>\n",
       "      <td>Yılmaz Erdoğan</td>\n",
       "      <td>Yılmaz Erdoğan, Kıvanç Tatlıtuğ, Ezgi Mola, Be...</td>\n",
       "      <td>Turkey</td>\n",
       "      <td>122 min</td>\n",
       "    </tr>\n",
       "    <tr>\n",
       "      <th>4447</th>\n",
       "      <td>Neseli Hayat</td>\n",
       "      <td>Yılmaz Erdoğan</td>\n",
       "      <td>Yılmaz Erdoğan, Ersin Korkut, Büşra Pekin, Erd...</td>\n",
       "      <td>Turkey</td>\n",
       "      <td>108 min</td>\n",
       "    </tr>\n",
       "    <tr>\n",
       "      <th>4682</th>\n",
       "      <td>Organize Isler</td>\n",
       "      <td>Yılmaz Erdoğan</td>\n",
       "      <td>Yılmaz Erdoğan, Tolga Çevik, Demet Akbağ, Alta...</td>\n",
       "      <td>Turkey</td>\n",
       "      <td>104 min</td>\n",
       "    </tr>\n",
       "    <tr>\n",
       "      <th>6189</th>\n",
       "      <td>The Butterfly's Dream</td>\n",
       "      <td>Yılmaz Erdoğan</td>\n",
       "      <td>Kıvanç Tatlıtuğ, Mert Fırat, Belçim Bilgin, Fa...</td>\n",
       "      <td>Turkey</td>\n",
       "      <td>118 min</td>\n",
       "    </tr>\n",
       "    <tr>\n",
       "      <th>7439</th>\n",
       "      <td>Vizontele Tuuba</td>\n",
       "      <td>Yılmaz Erdoğan</td>\n",
       "      <td>Yılmaz Erdoğan, Tarık Akan, Altan Erkekli, Cez...</td>\n",
       "      <td>Turkey</td>\n",
       "      <td>106 min</td>\n",
       "    </tr>\n",
       "  </tbody>\n",
       "</table>\n",
       "</div>"
      ],
      "text/plain": [
       "                      title        director  \\\n",
       "1941           Ekşi Elmalar  Yılmaz Erdoğan   \n",
       "3787  Love, Surreal and Odd  Yılmaz Erdoğan   \n",
       "4178             Money Trap  Yılmaz Erdoğan   \n",
       "4447           Neseli Hayat  Yılmaz Erdoğan   \n",
       "4682         Organize Isler  Yılmaz Erdoğan   \n",
       "6189  The Butterfly's Dream  Yılmaz Erdoğan   \n",
       "7439        Vizontele Tuuba  Yılmaz Erdoğan   \n",
       "\n",
       "                                                   cast country duration  \n",
       "1941  Yılmaz Erdoğan, Farah Zeynep Abdullah, Songül ...  Turkey  109 min  \n",
       "3787  Aylin Kontante, Bülent Emrah Parlak, Büşra Pek...  Turkey   95 min  \n",
       "4178  Yılmaz Erdoğan, Kıvanç Tatlıtuğ, Ezgi Mola, Be...  Turkey  122 min  \n",
       "4447  Yılmaz Erdoğan, Ersin Korkut, Büşra Pekin, Erd...  Turkey  108 min  \n",
       "4682  Yılmaz Erdoğan, Tolga Çevik, Demet Akbağ, Alta...  Turkey  104 min  \n",
       "6189  Kıvanç Tatlıtuğ, Mert Fırat, Belçim Bilgin, Fa...  Turkey  118 min  \n",
       "7439  Yılmaz Erdoğan, Tarık Akan, Altan Erkekli, Cez...  Turkey  106 min  "
      ]
     },
     "execution_count": 33,
     "metadata": {},
     "output_type": "execute_result"
    }
   ],
   "source": [
    "data.loc[data[\"director\"]==\"Yılmaz Erdoğan\"]\n"
   ]
  },
  {
   "cell_type": "code",
   "execution_count": 34,
   "id": "1560b2da",
   "metadata": {},
   "outputs": [
    {
     "data": {
      "text/plain": [
       "Raúl Campos, Jan Suter    18\n",
       "Marcus Raboy              16\n",
       "Jay Karas                 14\n",
       "Cathy Garcia-Molina       13\n",
       "Youssef Chahine           12\n",
       "                          ..\n",
       "Vibhu Virender Puri        1\n",
       "Lucien Jean-Baptiste       1\n",
       "Jason Krawczyk             1\n",
       "Quinn Lasher               1\n",
       "Sam Dunn                   1\n",
       "Name: director, Length: 4049, dtype: int64"
      ]
     },
     "execution_count": 34,
     "metadata": {},
     "output_type": "execute_result"
    }
   ],
   "source": [
    "data[\"director\"].value_counts()"
   ]
  },
  {
   "cell_type": "code",
   "execution_count": 39,
   "id": "482ccb88",
   "metadata": {},
   "outputs": [
    {
     "data": {
      "text/html": [
       "<div>\n",
       "<style scoped>\n",
       "    .dataframe tbody tr th:only-of-type {\n",
       "        vertical-align: middle;\n",
       "    }\n",
       "\n",
       "    .dataframe tbody tr th {\n",
       "        vertical-align: top;\n",
       "    }\n",
       "\n",
       "    .dataframe thead th {\n",
       "        text-align: right;\n",
       "    }\n",
       "</style>\n",
       "<table border=\"1\" class=\"dataframe\">\n",
       "  <thead>\n",
       "    <tr style=\"text-align: right;\">\n",
       "      <th></th>\n",
       "      <th>Yapım Sayısı</th>\n",
       "    </tr>\n",
       "  </thead>\n",
       "  <tbody>\n",
       "    <tr>\n",
       "      <th>Raúl Campos, Jan Suter</th>\n",
       "      <td>18</td>\n",
       "    </tr>\n",
       "    <tr>\n",
       "      <th>Marcus Raboy</th>\n",
       "      <td>16</td>\n",
       "    </tr>\n",
       "    <tr>\n",
       "      <th>Jay Karas</th>\n",
       "      <td>14</td>\n",
       "    </tr>\n",
       "    <tr>\n",
       "      <th>Cathy Garcia-Molina</th>\n",
       "      <td>13</td>\n",
       "    </tr>\n",
       "    <tr>\n",
       "      <th>Youssef Chahine</th>\n",
       "      <td>12</td>\n",
       "    </tr>\n",
       "    <tr>\n",
       "      <th>...</th>\n",
       "      <td>...</td>\n",
       "    </tr>\n",
       "    <tr>\n",
       "      <th>Vibhu Virender Puri</th>\n",
       "      <td>1</td>\n",
       "    </tr>\n",
       "    <tr>\n",
       "      <th>Lucien Jean-Baptiste</th>\n",
       "      <td>1</td>\n",
       "    </tr>\n",
       "    <tr>\n",
       "      <th>Jason Krawczyk</th>\n",
       "      <td>1</td>\n",
       "    </tr>\n",
       "    <tr>\n",
       "      <th>Quinn Lasher</th>\n",
       "      <td>1</td>\n",
       "    </tr>\n",
       "    <tr>\n",
       "      <th>Sam Dunn</th>\n",
       "      <td>1</td>\n",
       "    </tr>\n",
       "  </tbody>\n",
       "</table>\n",
       "<p>4049 rows × 1 columns</p>\n",
       "</div>"
      ],
      "text/plain": [
       "                        Yapım Sayısı\n",
       "Raúl Campos, Jan Suter            18\n",
       "Marcus Raboy                      16\n",
       "Jay Karas                         14\n",
       "Cathy Garcia-Molina               13\n",
       "Youssef Chahine                   12\n",
       "...                              ...\n",
       "Vibhu Virender Puri                1\n",
       "Lucien Jean-Baptiste               1\n",
       "Jason Krawczyk                     1\n",
       "Quinn Lasher                       1\n",
       "Sam Dunn                           1\n",
       "\n",
       "[4049 rows x 1 columns]"
      ]
     },
     "execution_count": 39,
     "metadata": {},
     "output_type": "execute_result"
    }
   ],
   "source": [
    "director = pd.DataFrame({\"Yapım Sayısı\": data[\"director\"].value_counts()})\n",
    "director"
   ]
  },
  {
   "cell_type": "code",
   "execution_count": 40,
   "id": "e38c03e9",
   "metadata": {},
   "outputs": [
    {
     "data": {
      "text/html": [
       "<div>\n",
       "<style scoped>\n",
       "    .dataframe tbody tr th:only-of-type {\n",
       "        vertical-align: middle;\n",
       "    }\n",
       "\n",
       "    .dataframe tbody tr th {\n",
       "        vertical-align: top;\n",
       "    }\n",
       "\n",
       "    .dataframe thead th {\n",
       "        text-align: right;\n",
       "    }\n",
       "</style>\n",
       "<table border=\"1\" class=\"dataframe\">\n",
       "  <thead>\n",
       "    <tr style=\"text-align: right;\">\n",
       "      <th></th>\n",
       "      <th>Yapım Sayısı</th>\n",
       "    </tr>\n",
       "  </thead>\n",
       "  <tbody>\n",
       "    <tr>\n",
       "      <th>Raúl Campos, Jan Suter</th>\n",
       "      <td>18</td>\n",
       "    </tr>\n",
       "    <tr>\n",
       "      <th>Marcus Raboy</th>\n",
       "      <td>16</td>\n",
       "    </tr>\n",
       "    <tr>\n",
       "      <th>Jay Karas</th>\n",
       "      <td>14</td>\n",
       "    </tr>\n",
       "    <tr>\n",
       "      <th>Cathy Garcia-Molina</th>\n",
       "      <td>13</td>\n",
       "    </tr>\n",
       "    <tr>\n",
       "      <th>Youssef Chahine</th>\n",
       "      <td>12</td>\n",
       "    </tr>\n",
       "  </tbody>\n",
       "</table>\n",
       "</div>"
      ],
      "text/plain": [
       "                        Yapım Sayısı\n",
       "Raúl Campos, Jan Suter            18\n",
       "Marcus Raboy                      16\n",
       "Jay Karas                         14\n",
       "Cathy Garcia-Molina               13\n",
       "Youssef Chahine                   12"
      ]
     },
     "execution_count": 40,
     "metadata": {},
     "output_type": "execute_result"
    }
   ],
   "source": [
    "director = pd.DataFrame({\"Yapım Sayısı\": data[\"director\"].value_counts()})\n",
    "director.head()"
   ]
  },
  {
   "cell_type": "code",
   "execution_count": null,
   "id": "1765b70a",
   "metadata": {},
   "outputs": [],
   "source": []
  }
 ],
 "metadata": {
  "kernelspec": {
   "display_name": "Python 3 (ipykernel)",
   "language": "python",
   "name": "python3"
  },
  "language_info": {
   "codemirror_mode": {
    "name": "ipython",
    "version": 3
   },
   "file_extension": ".py",
   "mimetype": "text/x-python",
   "name": "python",
   "nbconvert_exporter": "python",
   "pygments_lexer": "ipython3",
   "version": "3.9.12"
  }
 },
 "nbformat": 4,
 "nbformat_minor": 5
}
