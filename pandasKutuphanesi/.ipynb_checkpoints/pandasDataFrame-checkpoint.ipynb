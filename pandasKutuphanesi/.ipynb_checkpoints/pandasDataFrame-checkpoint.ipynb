{
 "cells": [
  {
   "cell_type": "code",
   "execution_count": 1,
   "id": "0a8ed3c4",
   "metadata": {},
   "outputs": [],
   "source": [
    "# pandas kütüphanesi aslında Python'un excel'idir."
   ]
  },
  {
   "cell_type": "code",
   "execution_count": 3,
   "id": "18449fba",
   "metadata": {},
   "outputs": [],
   "source": [
    "import pandas as pd\n",
    "import numpy as np"
   ]
  },
  {
   "cell_type": "code",
   "execution_count": 4,
   "id": "2f126cb9",
   "metadata": {},
   "outputs": [],
   "source": [
    "# dataframe = pd.DataFrame(data)"
   ]
  },
  {
   "cell_type": "code",
   "execution_count": 5,
   "id": "ffed8b71",
   "metadata": {},
   "outputs": [],
   "source": [
    "data = np.random.rand(5,4)*10"
   ]
  },
  {
   "cell_type": "code",
   "execution_count": 6,
   "id": "5ea33038",
   "metadata": {},
   "outputs": [
    {
     "data": {
      "text/plain": [
       "array([[2.8342377 , 1.84451902, 9.62896636, 7.5696969 ],\n",
       "       [5.60395098, 4.04512599, 3.08430426, 1.15056901],\n",
       "       [0.06338571, 5.41843561, 9.87558307, 9.05109333],\n",
       "       [4.35756727, 4.85015881, 0.49022301, 4.0831985 ],\n",
       "       [2.25152953, 2.6521245 , 3.59066524, 8.58994504]])"
      ]
     },
     "execution_count": 6,
     "metadata": {},
     "output_type": "execute_result"
    }
   ],
   "source": [
    "data"
   ]
  },
  {
   "cell_type": "code",
   "execution_count": 8,
   "id": "83370c4d",
   "metadata": {},
   "outputs": [
    {
     "data": {
      "text/html": [
       "<div>\n",
       "<style scoped>\n",
       "    .dataframe tbody tr th:only-of-type {\n",
       "        vertical-align: middle;\n",
       "    }\n",
       "\n",
       "    .dataframe tbody tr th {\n",
       "        vertical-align: top;\n",
       "    }\n",
       "\n",
       "    .dataframe thead th {\n",
       "        text-align: right;\n",
       "    }\n",
       "</style>\n",
       "<table border=\"1\" class=\"dataframe\">\n",
       "  <thead>\n",
       "    <tr style=\"text-align: right;\">\n",
       "      <th></th>\n",
       "      <th>0</th>\n",
       "      <th>1</th>\n",
       "      <th>2</th>\n",
       "      <th>3</th>\n",
       "    </tr>\n",
       "  </thead>\n",
       "  <tbody>\n",
       "    <tr>\n",
       "      <th>0</th>\n",
       "      <td>2.834238</td>\n",
       "      <td>1.844519</td>\n",
       "      <td>9.628966</td>\n",
       "      <td>7.569697</td>\n",
       "    </tr>\n",
       "    <tr>\n",
       "      <th>1</th>\n",
       "      <td>5.603951</td>\n",
       "      <td>4.045126</td>\n",
       "      <td>3.084304</td>\n",
       "      <td>1.150569</td>\n",
       "    </tr>\n",
       "    <tr>\n",
       "      <th>2</th>\n",
       "      <td>0.063386</td>\n",
       "      <td>5.418436</td>\n",
       "      <td>9.875583</td>\n",
       "      <td>9.051093</td>\n",
       "    </tr>\n",
       "    <tr>\n",
       "      <th>3</th>\n",
       "      <td>4.357567</td>\n",
       "      <td>4.850159</td>\n",
       "      <td>0.490223</td>\n",
       "      <td>4.083199</td>\n",
       "    </tr>\n",
       "    <tr>\n",
       "      <th>4</th>\n",
       "      <td>2.251530</td>\n",
       "      <td>2.652125</td>\n",
       "      <td>3.590665</td>\n",
       "      <td>8.589945</td>\n",
       "    </tr>\n",
       "  </tbody>\n",
       "</table>\n",
       "</div>"
      ],
      "text/plain": [
       "          0         1         2         3\n",
       "0  2.834238  1.844519  9.628966  7.569697\n",
       "1  5.603951  4.045126  3.084304  1.150569\n",
       "2  0.063386  5.418436  9.875583  9.051093\n",
       "3  4.357567  4.850159  0.490223  4.083199\n",
       "4  2.251530  2.652125  3.590665  8.589945"
      ]
     },
     "execution_count": 8,
     "metadata": {},
     "output_type": "execute_result"
    }
   ],
   "source": [
    "dataframe = pd.DataFrame(data)\n",
    "dataframe"
   ]
  },
  {
   "cell_type": "code",
   "execution_count": 9,
   "id": "e4710a15",
   "metadata": {},
   "outputs": [],
   "source": [
    "## Bu bir dataframe örneğidir."
   ]
  },
  {
   "cell_type": "code",
   "execution_count": 14,
   "id": "d6659f15",
   "metadata": {},
   "outputs": [],
   "source": [
    "idx = (\"a\",\"b\",\"c\",\"d\",\"e\")\n",
    "col = (\"Y\",\"A\",\"S\",\"İ\")"
   ]
  },
  {
   "cell_type": "code",
   "execution_count": 15,
   "id": "0f938d2b",
   "metadata": {},
   "outputs": [],
   "source": [
    "dataframe2 = pd.DataFrame(data, index=idx, columns=col)"
   ]
  },
  {
   "cell_type": "code",
   "execution_count": 16,
   "id": "5a679a4f",
   "metadata": {},
   "outputs": [
    {
     "data": {
      "text/html": [
       "<div>\n",
       "<style scoped>\n",
       "    .dataframe tbody tr th:only-of-type {\n",
       "        vertical-align: middle;\n",
       "    }\n",
       "\n",
       "    .dataframe tbody tr th {\n",
       "        vertical-align: top;\n",
       "    }\n",
       "\n",
       "    .dataframe thead th {\n",
       "        text-align: right;\n",
       "    }\n",
       "</style>\n",
       "<table border=\"1\" class=\"dataframe\">\n",
       "  <thead>\n",
       "    <tr style=\"text-align: right;\">\n",
       "      <th></th>\n",
       "      <th>Y</th>\n",
       "      <th>A</th>\n",
       "      <th>S</th>\n",
       "      <th>İ</th>\n",
       "    </tr>\n",
       "  </thead>\n",
       "  <tbody>\n",
       "    <tr>\n",
       "      <th>a</th>\n",
       "      <td>2.834238</td>\n",
       "      <td>1.844519</td>\n",
       "      <td>9.628966</td>\n",
       "      <td>7.569697</td>\n",
       "    </tr>\n",
       "    <tr>\n",
       "      <th>b</th>\n",
       "      <td>5.603951</td>\n",
       "      <td>4.045126</td>\n",
       "      <td>3.084304</td>\n",
       "      <td>1.150569</td>\n",
       "    </tr>\n",
       "    <tr>\n",
       "      <th>c</th>\n",
       "      <td>0.063386</td>\n",
       "      <td>5.418436</td>\n",
       "      <td>9.875583</td>\n",
       "      <td>9.051093</td>\n",
       "    </tr>\n",
       "    <tr>\n",
       "      <th>d</th>\n",
       "      <td>4.357567</td>\n",
       "      <td>4.850159</td>\n",
       "      <td>0.490223</td>\n",
       "      <td>4.083199</td>\n",
       "    </tr>\n",
       "    <tr>\n",
       "      <th>e</th>\n",
       "      <td>2.251530</td>\n",
       "      <td>2.652125</td>\n",
       "      <td>3.590665</td>\n",
       "      <td>8.589945</td>\n",
       "    </tr>\n",
       "  </tbody>\n",
       "</table>\n",
       "</div>"
      ],
      "text/plain": [
       "          Y         A         S         İ\n",
       "a  2.834238  1.844519  9.628966  7.569697\n",
       "b  5.603951  4.045126  3.084304  1.150569\n",
       "c  0.063386  5.418436  9.875583  9.051093\n",
       "d  4.357567  4.850159  0.490223  4.083199\n",
       "e  2.251530  2.652125  3.590665  8.589945"
      ]
     },
     "execution_count": 16,
     "metadata": {},
     "output_type": "execute_result"
    }
   ],
   "source": [
    "dataframe2"
   ]
  },
  {
   "cell_type": "code",
   "execution_count": 20,
   "id": "7e0f98e2",
   "metadata": {},
   "outputs": [
    {
     "data": {
      "text/plain": [
       "a    9.628966\n",
       "b    3.084304\n",
       "c    9.875583\n",
       "d    0.490223\n",
       "e    3.590665\n",
       "Name: S, dtype: float64"
      ]
     },
     "execution_count": 20,
     "metadata": {},
     "output_type": "execute_result"
    }
   ],
   "source": [
    "dataframe2[\"S\"] # Yalnızca girilen parametre döndürülür."
   ]
  },
  {
   "cell_type": "code",
   "execution_count": 21,
   "id": "1ac53e7c",
   "metadata": {},
   "outputs": [
    {
     "data": {
      "text/html": [
       "<div>\n",
       "<style scoped>\n",
       "    .dataframe tbody tr th:only-of-type {\n",
       "        vertical-align: middle;\n",
       "    }\n",
       "\n",
       "    .dataframe tbody tr th {\n",
       "        vertical-align: top;\n",
       "    }\n",
       "\n",
       "    .dataframe thead th {\n",
       "        text-align: right;\n",
       "    }\n",
       "</style>\n",
       "<table border=\"1\" class=\"dataframe\">\n",
       "  <thead>\n",
       "    <tr style=\"text-align: right;\">\n",
       "      <th></th>\n",
       "      <th>S</th>\n",
       "      <th>Y</th>\n",
       "    </tr>\n",
       "  </thead>\n",
       "  <tbody>\n",
       "    <tr>\n",
       "      <th>a</th>\n",
       "      <td>9.628966</td>\n",
       "      <td>2.834238</td>\n",
       "    </tr>\n",
       "    <tr>\n",
       "      <th>b</th>\n",
       "      <td>3.084304</td>\n",
       "      <td>5.603951</td>\n",
       "    </tr>\n",
       "    <tr>\n",
       "      <th>c</th>\n",
       "      <td>9.875583</td>\n",
       "      <td>0.063386</td>\n",
       "    </tr>\n",
       "    <tr>\n",
       "      <th>d</th>\n",
       "      <td>0.490223</td>\n",
       "      <td>4.357567</td>\n",
       "    </tr>\n",
       "    <tr>\n",
       "      <th>e</th>\n",
       "      <td>3.590665</td>\n",
       "      <td>2.251530</td>\n",
       "    </tr>\n",
       "  </tbody>\n",
       "</table>\n",
       "</div>"
      ],
      "text/plain": [
       "          S         Y\n",
       "a  9.628966  2.834238\n",
       "b  3.084304  5.603951\n",
       "c  9.875583  0.063386\n",
       "d  0.490223  4.357567\n",
       "e  3.590665  2.251530"
      ]
     },
     "execution_count": 21,
     "metadata": {},
     "output_type": "execute_result"
    }
   ],
   "source": [
    "dataframe2[[\"S\",\"Y\"]]"
   ]
  },
  {
   "cell_type": "code",
   "execution_count": null,
   "id": "7be8ba8e",
   "metadata": {},
   "outputs": [],
   "source": []
  }
 ],
 "metadata": {
  "kernelspec": {
   "display_name": "Python 3 (ipykernel)",
   "language": "python",
   "name": "python3"
  },
  "language_info": {
   "codemirror_mode": {
    "name": "ipython",
    "version": 3
   },
   "file_extension": ".py",
   "mimetype": "text/x-python",
   "name": "python",
   "nbconvert_exporter": "python",
   "pygments_lexer": "ipython3",
   "version": "3.9.12"
  }
 },
 "nbformat": 4,
 "nbformat_minor": 5
}
