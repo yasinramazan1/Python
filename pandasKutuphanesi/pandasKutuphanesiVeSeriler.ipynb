{
 "cells": [
  {
   "cell_type": "code",
   "execution_count": 1,
   "id": "deb171f4",
   "metadata": {},
   "outputs": [],
   "source": [
    "import numpy as np\n",
    "import pandas as pd"
   ]
  },
  {
   "cell_type": "code",
   "execution_count": 2,
   "id": "a0832ae1",
   "metadata": {},
   "outputs": [],
   "source": [
    "# Serilerin genel kullanımı\n",
    "# seri = pd.Series(data, index)"
   ]
  },
  {
   "cell_type": "code",
   "execution_count": 16,
   "id": "839a037b",
   "metadata": {},
   "outputs": [],
   "source": [
    "liste = [12,123,12,3,1324]\n",
    "idx = (\"A\", \"B\", \"C\", \"D\", \"E\")"
   ]
  },
  {
   "cell_type": "code",
   "execution_count": 17,
   "id": "5e546df3",
   "metadata": {},
   "outputs": [
    {
     "data": {
      "text/plain": [
       "array([  12,  123,   12,    3, 1324])"
      ]
     },
     "execution_count": 17,
     "metadata": {},
     "output_type": "execute_result"
    }
   ],
   "source": [
    "dizi = np.array(liste)\n",
    "dizi\n"
   ]
  },
  {
   "cell_type": "code",
   "execution_count": 18,
   "id": "17fa7945",
   "metadata": {},
   "outputs": [
    {
     "data": {
      "text/plain": [
       "0      12\n",
       "1     123\n",
       "2      12\n",
       "3       3\n",
       "4    1324\n",
       "dtype: int64"
      ]
     },
     "execution_count": 18,
     "metadata": {},
     "output_type": "execute_result"
    }
   ],
   "source": [
    "seri = pd.Series(liste)\n",
    "seri"
   ]
  },
  {
   "cell_type": "code",
   "execution_count": 19,
   "id": "5f504857",
   "metadata": {},
   "outputs": [
    {
     "data": {
      "text/plain": [
       "A      12\n",
       "B     123\n",
       "C      12\n",
       "D       3\n",
       "E    1324\n",
       "dtype: int64"
      ]
     },
     "execution_count": 19,
     "metadata": {},
     "output_type": "execute_result"
    }
   ],
   "source": [
    "seri = pd.Series(data=liste, index=idx)\n",
    "seri"
   ]
  },
  {
   "cell_type": "code",
   "execution_count": 20,
   "id": "abdf5229",
   "metadata": {},
   "outputs": [
    {
     "data": {
      "text/plain": [
       "tuple"
      ]
     },
     "execution_count": 20,
     "metadata": {},
     "output_type": "execute_result"
    }
   ],
   "source": [
    "type(idx)"
   ]
  },
  {
   "cell_type": "code",
   "execution_count": 24,
   "id": "735121fc",
   "metadata": {},
   "outputs": [],
   "source": [
    "sözlük = {\"A\":1, \"B\":8687, \"C\":3, \"D\":4, \"E\":5}"
   ]
  },
  {
   "cell_type": "code",
   "execution_count": 25,
   "id": "abfff9a2",
   "metadata": {},
   "outputs": [],
   "source": [
    "seri2 = pd.Series(sözlük)"
   ]
  },
  {
   "cell_type": "code",
   "execution_count": 26,
   "id": "8c5c84d3",
   "metadata": {},
   "outputs": [
    {
     "data": {
      "text/plain": [
       "A       1\n",
       "B    8687\n",
       "C       3\n",
       "D       4\n",
       "E       5\n",
       "dtype: int64"
      ]
     },
     "execution_count": 26,
     "metadata": {},
     "output_type": "execute_result"
    }
   ],
   "source": [
    "seri2"
   ]
  },
  {
   "cell_type": "code",
   "execution_count": null,
   "id": "0a0cd05a",
   "metadata": {},
   "outputs": [],
   "source": []
  }
 ],
 "metadata": {
  "kernelspec": {
   "display_name": "Python 3 (ipykernel)",
   "language": "python",
   "name": "python3"
  },
  "language_info": {
   "codemirror_mode": {
    "name": "ipython",
    "version": 3
   },
   "file_extension": ".py",
   "mimetype": "text/x-python",
   "name": "python",
   "nbconvert_exporter": "python",
   "pygments_lexer": "ipython3",
   "version": "3.9.12"
  }
 },
 "nbformat": 4,
 "nbformat_minor": 5
}
