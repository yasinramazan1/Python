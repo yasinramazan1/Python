{
 "cells": [
  {
   "cell_type": "code",
   "execution_count": 1,
   "id": "ec8c3613",
   "metadata": {},
   "outputs": [],
   "source": [
    "import pandas as pd\n",
    "import numpy as np\n"
   ]
  },
  {
   "cell_type": "code",
   "execution_count": 2,
   "id": "035ef3a0",
   "metadata": {},
   "outputs": [],
   "source": [
    "idx1 = [\"A\",\"A\",\"A\",\"B\",\"B\",\"B\"]\n",
    "idx2 = [\"a\",\"b\",\"c\",\"d\",\"e\",\"f\"]"
   ]
  },
  {
   "cell_type": "code",
   "execution_count": 3,
   "id": "55ed6dae",
   "metadata": {},
   "outputs": [
    {
     "data": {
      "text/plain": [
       "[('A', 'a'), ('A', 'b'), ('A', 'c'), ('B', 'd'), ('B', 'e'), ('B', 'f')]"
      ]
     },
     "execution_count": 3,
     "metadata": {},
     "output_type": "execute_result"
    }
   ],
   "source": [
    "idxM = list(zip(idx1,idx2))\n",
    "idxM"
   ]
  },
  {
   "cell_type": "code",
   "execution_count": 4,
   "id": "27f6f6f8",
   "metadata": {},
   "outputs": [],
   "source": [
    "idxM=pd.MultiIndex.from_tuples(idxM)"
   ]
  },
  {
   "cell_type": "code",
   "execution_count": 5,
   "id": "d7fbc416",
   "metadata": {},
   "outputs": [
    {
     "data": {
      "text/plain": [
       "MultiIndex([('A', 'a'),\n",
       "            ('A', 'b'),\n",
       "            ('A', 'c'),\n",
       "            ('B', 'd'),\n",
       "            ('B', 'e'),\n",
       "            ('B', 'f')],\n",
       "           )"
      ]
     },
     "execution_count": 5,
     "metadata": {},
     "output_type": "execute_result"
    }
   ],
   "source": [
    "idxM"
   ]
  },
  {
   "cell_type": "code",
   "execution_count": 7,
   "id": "e9d92738",
   "metadata": {},
   "outputs": [],
   "source": [
    "liste = [[1,10],[2,20],[3,30],[4,40],[5,50],[6,60]]"
   ]
  },
  {
   "cell_type": "code",
   "execution_count": 8,
   "id": "18897600",
   "metadata": {},
   "outputs": [
    {
     "data": {
      "text/plain": [
       "array([[ 1, 10],\n",
       "       [ 2, 20],\n",
       "       [ 3, 30],\n",
       "       [ 4, 40],\n",
       "       [ 5, 50],\n",
       "       [ 6, 60]])"
      ]
     },
     "execution_count": 8,
     "metadata": {},
     "output_type": "execute_result"
    }
   ],
   "source": [
    "dizi = np.array(liste)\n",
    "dizi"
   ]
  },
  {
   "cell_type": "code",
   "execution_count": 9,
   "id": "eb15fb19",
   "metadata": {},
   "outputs": [
    {
     "data": {
      "text/html": [
       "<div>\n",
       "<style scoped>\n",
       "    .dataframe tbody tr th:only-of-type {\n",
       "        vertical-align: middle;\n",
       "    }\n",
       "\n",
       "    .dataframe tbody tr th {\n",
       "        vertical-align: top;\n",
       "    }\n",
       "\n",
       "    .dataframe thead th {\n",
       "        text-align: right;\n",
       "    }\n",
       "</style>\n",
       "<table border=\"1\" class=\"dataframe\">\n",
       "  <thead>\n",
       "    <tr style=\"text-align: right;\">\n",
       "      <th></th>\n",
       "      <th></th>\n",
       "      <th>x</th>\n",
       "      <th>10x</th>\n",
       "    </tr>\n",
       "  </thead>\n",
       "  <tbody>\n",
       "    <tr>\n",
       "      <th rowspan=\"3\" valign=\"top\">A</th>\n",
       "      <th>a</th>\n",
       "      <td>1</td>\n",
       "      <td>10</td>\n",
       "    </tr>\n",
       "    <tr>\n",
       "      <th>b</th>\n",
       "      <td>2</td>\n",
       "      <td>20</td>\n",
       "    </tr>\n",
       "    <tr>\n",
       "      <th>c</th>\n",
       "      <td>3</td>\n",
       "      <td>30</td>\n",
       "    </tr>\n",
       "    <tr>\n",
       "      <th rowspan=\"3\" valign=\"top\">B</th>\n",
       "      <th>d</th>\n",
       "      <td>4</td>\n",
       "      <td>40</td>\n",
       "    </tr>\n",
       "    <tr>\n",
       "      <th>e</th>\n",
       "      <td>5</td>\n",
       "      <td>50</td>\n",
       "    </tr>\n",
       "    <tr>\n",
       "      <th>f</th>\n",
       "      <td>6</td>\n",
       "      <td>60</td>\n",
       "    </tr>\n",
       "  </tbody>\n",
       "</table>\n",
       "</div>"
      ],
      "text/plain": [
       "     x  10x\n",
       "A a  1   10\n",
       "  b  2   20\n",
       "  c  3   30\n",
       "B d  4   40\n",
       "  e  5   50\n",
       "  f  6   60"
      ]
     },
     "execution_count": 9,
     "metadata": {},
     "output_type": "execute_result"
    }
   ],
   "source": [
    "tablo = pd.DataFrame(dizi, index=idxM, columns= [\"x\",\"10x\"])\n",
    "tablo"
   ]
  },
  {
   "cell_type": "code",
   "execution_count": 13,
   "id": "de92b655",
   "metadata": {},
   "outputs": [
    {
     "data": {
      "text/plain": [
       "x       3\n",
       "10x    30\n",
       "Name: c, dtype: int32"
      ]
     },
     "execution_count": 13,
     "metadata": {},
     "output_type": "execute_result"
    }
   ],
   "source": [
    "tablo.loc[\"A\"].loc[\"c\"]"
   ]
  },
  {
   "cell_type": "code",
   "execution_count": null,
   "id": "923469b9",
   "metadata": {},
   "outputs": [],
   "source": []
  }
 ],
 "metadata": {
  "kernelspec": {
   "display_name": "Python 3 (ipykernel)",
   "language": "python",
   "name": "python3"
  },
  "language_info": {
   "codemirror_mode": {
    "name": "ipython",
    "version": 3
   },
   "file_extension": ".py",
   "mimetype": "text/x-python",
   "name": "python",
   "nbconvert_exporter": "python",
   "pygments_lexer": "ipython3",
   "version": "3.9.12"
  }
 },
 "nbformat": 4,
 "nbformat_minor": 5
}
