{
 "cells": [
  {
   "cell_type": "code",
   "execution_count": 1,
   "id": "debf49a3",
   "metadata": {},
   "outputs": [],
   "source": [
    "import pandas as pd\n",
    "import numpy as np"
   ]
  },
  {
   "cell_type": "code",
   "execution_count": 8,
   "id": "162a718c",
   "metadata": {},
   "outputs": [],
   "source": [
    "sözlük = {\"A\":[11]}\n"
   ]
  },
  {
   "cell_type": "code",
   "execution_count": 9,
   "id": "1c916483",
   "metadata": {},
   "outputs": [
    {
     "data": {
      "text/html": [
       "<div>\n",
       "<style scoped>\n",
       "    .dataframe tbody tr th:only-of-type {\n",
       "        vertical-align: middle;\n",
       "    }\n",
       "\n",
       "    .dataframe tbody tr th {\n",
       "        vertical-align: top;\n",
       "    }\n",
       "\n",
       "    .dataframe thead th {\n",
       "        text-align: right;\n",
       "    }\n",
       "</style>\n",
       "<table border=\"1\" class=\"dataframe\">\n",
       "  <thead>\n",
       "    <tr style=\"text-align: right;\">\n",
       "      <th></th>\n",
       "      <th>A</th>\n",
       "    </tr>\n",
       "  </thead>\n",
       "  <tbody>\n",
       "    <tr>\n",
       "      <th>0</th>\n",
       "      <td>11</td>\n",
       "    </tr>\n",
       "  </tbody>\n",
       "</table>\n",
       "</div>"
      ],
      "text/plain": [
       "    A\n",
       "0  11"
      ]
     },
     "execution_count": 9,
     "metadata": {},
     "output_type": "execute_result"
    }
   ],
   "source": [
    "tablo1 = pd.DataFrame(sözlük)\n",
    "tablo1"
   ]
  },
  {
   "cell_type": "code",
   "execution_count": 29,
   "id": "161b89e4",
   "metadata": {},
   "outputs": [],
   "source": [
    "dictionary = {\"Fakülte\":[\"Makine M.\",\"Endüstri M.\",\"Endüstri M.\",\"Yazılım M.\",\"Yazılım M.\",\"Mekatronik M.\"],\"Öğrenci Sayısı\":[1523,23425,235463,246356,1241,56865]}"
   ]
  },
  {
   "cell_type": "code",
   "execution_count": 30,
   "id": "3b8c6af9",
   "metadata": {},
   "outputs": [
    {
     "data": {
      "text/html": [
       "<div>\n",
       "<style scoped>\n",
       "    .dataframe tbody tr th:only-of-type {\n",
       "        vertical-align: middle;\n",
       "    }\n",
       "\n",
       "    .dataframe tbody tr th {\n",
       "        vertical-align: top;\n",
       "    }\n",
       "\n",
       "    .dataframe thead th {\n",
       "        text-align: right;\n",
       "    }\n",
       "</style>\n",
       "<table border=\"1\" class=\"dataframe\">\n",
       "  <thead>\n",
       "    <tr style=\"text-align: right;\">\n",
       "      <th></th>\n",
       "      <th>Fakülte</th>\n",
       "      <th>Öğrenci Sayısı</th>\n",
       "    </tr>\n",
       "  </thead>\n",
       "  <tbody>\n",
       "    <tr>\n",
       "      <th>0</th>\n",
       "      <td>Makine M.</td>\n",
       "      <td>1523</td>\n",
       "    </tr>\n",
       "    <tr>\n",
       "      <th>1</th>\n",
       "      <td>Endüstri M.</td>\n",
       "      <td>23425</td>\n",
       "    </tr>\n",
       "    <tr>\n",
       "      <th>2</th>\n",
       "      <td>Endüstri M.</td>\n",
       "      <td>235463</td>\n",
       "    </tr>\n",
       "    <tr>\n",
       "      <th>3</th>\n",
       "      <td>Yazılım M.</td>\n",
       "      <td>246356</td>\n",
       "    </tr>\n",
       "    <tr>\n",
       "      <th>4</th>\n",
       "      <td>Yazılım M.</td>\n",
       "      <td>1241</td>\n",
       "    </tr>\n",
       "    <tr>\n",
       "      <th>5</th>\n",
       "      <td>Mekatronik M.</td>\n",
       "      <td>56865</td>\n",
       "    </tr>\n",
       "  </tbody>\n",
       "</table>\n",
       "</div>"
      ],
      "text/plain": [
       "         Fakülte  Öğrenci Sayısı\n",
       "0      Makine M.            1523\n",
       "1    Endüstri M.           23425\n",
       "2    Endüstri M.          235463\n",
       "3     Yazılım M.          246356\n",
       "4     Yazılım M.            1241\n",
       "5  Mekatronik M.           56865"
      ]
     },
     "execution_count": 30,
     "metadata": {},
     "output_type": "execute_result"
    }
   ],
   "source": [
    "tablo2 = pd.DataFrame(dictionary)\n",
    "tablo2"
   ]
  },
  {
   "cell_type": "code",
   "execution_count": 31,
   "id": "ac888edb",
   "metadata": {},
   "outputs": [],
   "source": [
    "fakülte = tablo2.groupby(\"Fakülte\")\n"
   ]
  },
  {
   "cell_type": "code",
   "execution_count": 32,
   "id": "8aff66ea",
   "metadata": {},
   "outputs": [
    {
     "data": {
      "text/html": [
       "<div>\n",
       "<style scoped>\n",
       "    .dataframe tbody tr th:only-of-type {\n",
       "        vertical-align: middle;\n",
       "    }\n",
       "\n",
       "    .dataframe tbody tr th {\n",
       "        vertical-align: top;\n",
       "    }\n",
       "\n",
       "    .dataframe thead th {\n",
       "        text-align: right;\n",
       "    }\n",
       "</style>\n",
       "<table border=\"1\" class=\"dataframe\">\n",
       "  <thead>\n",
       "    <tr style=\"text-align: right;\">\n",
       "      <th></th>\n",
       "      <th>Öğrenci Sayısı</th>\n",
       "    </tr>\n",
       "    <tr>\n",
       "      <th>Fakülte</th>\n",
       "      <th></th>\n",
       "    </tr>\n",
       "  </thead>\n",
       "  <tbody>\n",
       "    <tr>\n",
       "      <th>Endüstri M.</th>\n",
       "      <td>2</td>\n",
       "    </tr>\n",
       "    <tr>\n",
       "      <th>Makine M.</th>\n",
       "      <td>1</td>\n",
       "    </tr>\n",
       "    <tr>\n",
       "      <th>Mekatronik M.</th>\n",
       "      <td>1</td>\n",
       "    </tr>\n",
       "    <tr>\n",
       "      <th>Yazılım M.</th>\n",
       "      <td>2</td>\n",
       "    </tr>\n",
       "  </tbody>\n",
       "</table>\n",
       "</div>"
      ],
      "text/plain": [
       "               Öğrenci Sayısı\n",
       "Fakülte                      \n",
       "Endüstri M.                 2\n",
       "Makine M.                   1\n",
       "Mekatronik M.               1\n",
       "Yazılım M.                  2"
      ]
     },
     "execution_count": 32,
     "metadata": {},
     "output_type": "execute_result"
    }
   ],
   "source": [
    "fakülte.count()"
   ]
  },
  {
   "cell_type": "code",
   "execution_count": 33,
   "id": "2be4148c",
   "metadata": {},
   "outputs": [
    {
     "data": {
      "text/html": [
       "<div>\n",
       "<style scoped>\n",
       "    .dataframe tbody tr th:only-of-type {\n",
       "        vertical-align: middle;\n",
       "    }\n",
       "\n",
       "    .dataframe tbody tr th {\n",
       "        vertical-align: top;\n",
       "    }\n",
       "\n",
       "    .dataframe thead th {\n",
       "        text-align: right;\n",
       "    }\n",
       "</style>\n",
       "<table border=\"1\" class=\"dataframe\">\n",
       "  <thead>\n",
       "    <tr style=\"text-align: right;\">\n",
       "      <th></th>\n",
       "      <th>Öğrenci Sayısı</th>\n",
       "    </tr>\n",
       "    <tr>\n",
       "      <th>Fakülte</th>\n",
       "      <th></th>\n",
       "    </tr>\n",
       "  </thead>\n",
       "  <tbody>\n",
       "    <tr>\n",
       "      <th>Endüstri M.</th>\n",
       "      <td>129444.0</td>\n",
       "    </tr>\n",
       "    <tr>\n",
       "      <th>Makine M.</th>\n",
       "      <td>1523.0</td>\n",
       "    </tr>\n",
       "    <tr>\n",
       "      <th>Mekatronik M.</th>\n",
       "      <td>56865.0</td>\n",
       "    </tr>\n",
       "    <tr>\n",
       "      <th>Yazılım M.</th>\n",
       "      <td>123798.5</td>\n",
       "    </tr>\n",
       "  </tbody>\n",
       "</table>\n",
       "</div>"
      ],
      "text/plain": [
       "               Öğrenci Sayısı\n",
       "Fakülte                      \n",
       "Endüstri M.          129444.0\n",
       "Makine M.              1523.0\n",
       "Mekatronik M.         56865.0\n",
       "Yazılım M.           123798.5"
      ]
     },
     "execution_count": 33,
     "metadata": {},
     "output_type": "execute_result"
    }
   ],
   "source": [
    "fakülte.mean() # Ortalamasını verir."
   ]
  },
  {
   "cell_type": "code",
   "execution_count": 34,
   "id": "77dc85bd",
   "metadata": {},
   "outputs": [
    {
     "data": {
      "text/html": [
       "<div>\n",
       "<style scoped>\n",
       "    .dataframe tbody tr th:only-of-type {\n",
       "        vertical-align: middle;\n",
       "    }\n",
       "\n",
       "    .dataframe tbody tr th {\n",
       "        vertical-align: top;\n",
       "    }\n",
       "\n",
       "    .dataframe thead th {\n",
       "        text-align: right;\n",
       "    }\n",
       "</style>\n",
       "<table border=\"1\" class=\"dataframe\">\n",
       "  <thead>\n",
       "    <tr style=\"text-align: right;\">\n",
       "      <th></th>\n",
       "      <th>Öğrenci Sayısı</th>\n",
       "    </tr>\n",
       "    <tr>\n",
       "      <th>Fakülte</th>\n",
       "      <th></th>\n",
       "    </tr>\n",
       "  </thead>\n",
       "  <tbody>\n",
       "    <tr>\n",
       "      <th>Endüstri M.</th>\n",
       "      <td>23425</td>\n",
       "    </tr>\n",
       "    <tr>\n",
       "      <th>Makine M.</th>\n",
       "      <td>1523</td>\n",
       "    </tr>\n",
       "    <tr>\n",
       "      <th>Mekatronik M.</th>\n",
       "      <td>56865</td>\n",
       "    </tr>\n",
       "    <tr>\n",
       "      <th>Yazılım M.</th>\n",
       "      <td>1241</td>\n",
       "    </tr>\n",
       "  </tbody>\n",
       "</table>\n",
       "</div>"
      ],
      "text/plain": [
       "               Öğrenci Sayısı\n",
       "Fakülte                      \n",
       "Endüstri M.             23425\n",
       "Makine M.                1523\n",
       "Mekatronik M.           56865\n",
       "Yazılım M.               1241"
      ]
     },
     "execution_count": 34,
     "metadata": {},
     "output_type": "execute_result"
    }
   ],
   "source": [
    "fakülte.min()"
   ]
  },
  {
   "cell_type": "code",
   "execution_count": 35,
   "id": "8adda74a",
   "metadata": {},
   "outputs": [
    {
     "data": {
      "text/html": [
       "<div>\n",
       "<style scoped>\n",
       "    .dataframe tbody tr th:only-of-type {\n",
       "        vertical-align: middle;\n",
       "    }\n",
       "\n",
       "    .dataframe tbody tr th {\n",
       "        vertical-align: top;\n",
       "    }\n",
       "\n",
       "    .dataframe thead th {\n",
       "        text-align: right;\n",
       "    }\n",
       "</style>\n",
       "<table border=\"1\" class=\"dataframe\">\n",
       "  <thead>\n",
       "    <tr style=\"text-align: right;\">\n",
       "      <th></th>\n",
       "      <th>Öğrenci Sayısı</th>\n",
       "    </tr>\n",
       "    <tr>\n",
       "      <th>Fakülte</th>\n",
       "      <th></th>\n",
       "    </tr>\n",
       "  </thead>\n",
       "  <tbody>\n",
       "    <tr>\n",
       "      <th>Endüstri M.</th>\n",
       "      <td>235463</td>\n",
       "    </tr>\n",
       "    <tr>\n",
       "      <th>Makine M.</th>\n",
       "      <td>1523</td>\n",
       "    </tr>\n",
       "    <tr>\n",
       "      <th>Mekatronik M.</th>\n",
       "      <td>56865</td>\n",
       "    </tr>\n",
       "    <tr>\n",
       "      <th>Yazılım M.</th>\n",
       "      <td>246356</td>\n",
       "    </tr>\n",
       "  </tbody>\n",
       "</table>\n",
       "</div>"
      ],
      "text/plain": [
       "               Öğrenci Sayısı\n",
       "Fakülte                      \n",
       "Endüstri M.            235463\n",
       "Makine M.                1523\n",
       "Mekatronik M.           56865\n",
       "Yazılım M.             246356"
      ]
     },
     "execution_count": 35,
     "metadata": {},
     "output_type": "execute_result"
    }
   ],
   "source": [
    "fakülte.max()"
   ]
  },
  {
   "cell_type": "code",
   "execution_count": 36,
   "id": "d5df8b4e",
   "metadata": {},
   "outputs": [
    {
     "data": {
      "text/html": [
       "<div>\n",
       "<style scoped>\n",
       "    .dataframe tbody tr th:only-of-type {\n",
       "        vertical-align: middle;\n",
       "    }\n",
       "\n",
       "    .dataframe tbody tr th {\n",
       "        vertical-align: top;\n",
       "    }\n",
       "\n",
       "    .dataframe thead tr th {\n",
       "        text-align: left;\n",
       "    }\n",
       "\n",
       "    .dataframe thead tr:last-of-type th {\n",
       "        text-align: right;\n",
       "    }\n",
       "</style>\n",
       "<table border=\"1\" class=\"dataframe\">\n",
       "  <thead>\n",
       "    <tr>\n",
       "      <th></th>\n",
       "      <th colspan=\"8\" halign=\"left\">Öğrenci Sayısı</th>\n",
       "    </tr>\n",
       "    <tr>\n",
       "      <th></th>\n",
       "      <th>count</th>\n",
       "      <th>mean</th>\n",
       "      <th>std</th>\n",
       "      <th>min</th>\n",
       "      <th>25%</th>\n",
       "      <th>50%</th>\n",
       "      <th>75%</th>\n",
       "      <th>max</th>\n",
       "    </tr>\n",
       "    <tr>\n",
       "      <th>Fakülte</th>\n",
       "      <th></th>\n",
       "      <th></th>\n",
       "      <th></th>\n",
       "      <th></th>\n",
       "      <th></th>\n",
       "      <th></th>\n",
       "      <th></th>\n",
       "      <th></th>\n",
       "    </tr>\n",
       "  </thead>\n",
       "  <tbody>\n",
       "    <tr>\n",
       "      <th>Endüstri M.</th>\n",
       "      <td>2.0</td>\n",
       "      <td>129444.0</td>\n",
       "      <td>149933.507669</td>\n",
       "      <td>23425.0</td>\n",
       "      <td>76434.50</td>\n",
       "      <td>129444.0</td>\n",
       "      <td>182453.50</td>\n",
       "      <td>235463.0</td>\n",
       "    </tr>\n",
       "    <tr>\n",
       "      <th>Makine M.</th>\n",
       "      <td>1.0</td>\n",
       "      <td>1523.0</td>\n",
       "      <td>NaN</td>\n",
       "      <td>1523.0</td>\n",
       "      <td>1523.00</td>\n",
       "      <td>1523.0</td>\n",
       "      <td>1523.00</td>\n",
       "      <td>1523.0</td>\n",
       "    </tr>\n",
       "    <tr>\n",
       "      <th>Mekatronik M.</th>\n",
       "      <td>1.0</td>\n",
       "      <td>56865.0</td>\n",
       "      <td>NaN</td>\n",
       "      <td>56865.0</td>\n",
       "      <td>56865.00</td>\n",
       "      <td>56865.0</td>\n",
       "      <td>56865.00</td>\n",
       "      <td>56865.0</td>\n",
       "    </tr>\n",
       "    <tr>\n",
       "      <th>Yazılım M.</th>\n",
       "      <td>2.0</td>\n",
       "      <td>123798.5</td>\n",
       "      <td>173322.478671</td>\n",
       "      <td>1241.0</td>\n",
       "      <td>62519.75</td>\n",
       "      <td>123798.5</td>\n",
       "      <td>185077.25</td>\n",
       "      <td>246356.0</td>\n",
       "    </tr>\n",
       "  </tbody>\n",
       "</table>\n",
       "</div>"
      ],
      "text/plain": [
       "              Öğrenci Sayısı                                              \\\n",
       "                       count      mean            std      min       25%   \n",
       "Fakülte                                                                    \n",
       "Endüstri M.              2.0  129444.0  149933.507669  23425.0  76434.50   \n",
       "Makine M.                1.0    1523.0            NaN   1523.0   1523.00   \n",
       "Mekatronik M.            1.0   56865.0            NaN  56865.0  56865.00   \n",
       "Yazılım M.               2.0  123798.5  173322.478671   1241.0  62519.75   \n",
       "\n",
       "                                              \n",
       "                    50%        75%       max  \n",
       "Fakülte                                       \n",
       "Endüstri M.    129444.0  182453.50  235463.0  \n",
       "Makine M.        1523.0    1523.00    1523.0  \n",
       "Mekatronik M.   56865.0   56865.00   56865.0  \n",
       "Yazılım M.     123798.5  185077.25  246356.0  "
      ]
     },
     "execution_count": 36,
     "metadata": {},
     "output_type": "execute_result"
    }
   ],
   "source": [
    "fakülte.describe()"
   ]
  },
  {
   "cell_type": "code",
   "execution_count": null,
   "id": "0c2c9372",
   "metadata": {},
   "outputs": [],
   "source": []
  }
 ],
 "metadata": {
  "kernelspec": {
   "display_name": "Python 3 (ipykernel)",
   "language": "python",
   "name": "python3"
  },
  "language_info": {
   "codemirror_mode": {
    "name": "ipython",
    "version": 3
   },
   "file_extension": ".py",
   "mimetype": "text/x-python",
   "name": "python",
   "nbconvert_exporter": "python",
   "pygments_lexer": "ipython3",
   "version": "3.9.12"
  }
 },
 "nbformat": 4,
 "nbformat_minor": 5
}
