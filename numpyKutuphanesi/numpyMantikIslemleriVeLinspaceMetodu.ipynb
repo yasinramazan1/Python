{
 "cells": [
  {
   "cell_type": "code",
   "execution_count": 1,
   "id": "5bafd17f",
   "metadata": {},
   "outputs": [],
   "source": [
    "import numpy as np"
   ]
  },
  {
   "cell_type": "code",
   "execution_count": 2,
   "id": "9f112cef",
   "metadata": {},
   "outputs": [
    {
     "data": {
      "text/plain": [
       "array([ 0. ,  2.5,  5. ,  7.5, 10. ])"
      ]
     },
     "execution_count": 2,
     "metadata": {},
     "output_type": "execute_result"
    }
   ],
   "source": [
    "np.linspace(0,10,5) # 0'dan 10'a kadar eşit aralıklı 5 tane sayı döndürür."
   ]
  },
  {
   "cell_type": "code",
   "execution_count": 3,
   "id": "f325db59",
   "metadata": {},
   "outputs": [
    {
     "data": {
      "text/plain": [
       "array([ 3.        ,  7.33333333, 11.66666667, 16.        , 20.33333333,\n",
       "       24.66666667, 29.        ])"
      ]
     },
     "execution_count": 3,
     "metadata": {},
     "output_type": "execute_result"
    }
   ],
   "source": [
    "np.linspace(3,29,7)"
   ]
  },
  {
   "cell_type": "code",
   "execution_count": 4,
   "id": "ee1e9411",
   "metadata": {},
   "outputs": [],
   "source": [
    "dizi = np.array([\"a\",\"b\"])"
   ]
  },
  {
   "cell_type": "code",
   "execution_count": 5,
   "id": "4b532437",
   "metadata": {},
   "outputs": [],
   "source": [
    "dizi2=np.array([\"a\",\"b\"])"
   ]
  },
  {
   "cell_type": "code",
   "execution_count": 6,
   "id": "233361f0",
   "metadata": {},
   "outputs": [],
   "source": [
    "dizi3=np.array([1,2])"
   ]
  },
  {
   "cell_type": "code",
   "execution_count": 7,
   "id": "69009589",
   "metadata": {},
   "outputs": [
    {
     "data": {
      "text/plain": [
       "array([ True,  True])"
      ]
     },
     "execution_count": 7,
     "metadata": {},
     "output_type": "execute_result"
    }
   ],
   "source": [
    "dizi==dizi2"
   ]
  },
  {
   "cell_type": "code",
   "execution_count": 8,
   "id": "37925539",
   "metadata": {},
   "outputs": [
    {
     "name": "stderr",
     "output_type": "stream",
     "text": [
      "C:\\Users\\YRG\\AppData\\Local\\Temp\\ipykernel_9340\\2743472999.py:1: FutureWarning: elementwise comparison failed; returning scalar instead, but in the future will perform elementwise comparison\n",
      "  dizi==dizi3\n"
     ]
    },
    {
     "data": {
      "text/plain": [
       "False"
      ]
     },
     "execution_count": 8,
     "metadata": {},
     "output_type": "execute_result"
    }
   ],
   "source": [
    "dizi==dizi3"
   ]
  },
  {
   "cell_type": "code",
   "execution_count": 9,
   "id": "b2a7ff64",
   "metadata": {},
   "outputs": [],
   "source": [
    "dizi4=np.array([\"a\",2])"
   ]
  },
  {
   "cell_type": "code",
   "execution_count": 10,
   "id": "2e3dbbb8",
   "metadata": {},
   "outputs": [
    {
     "name": "stderr",
     "output_type": "stream",
     "text": [
      "C:\\Users\\YRG\\AppData\\Local\\Temp\\ipykernel_9340\\2670608415.py:1: FutureWarning: elementwise comparison failed; returning scalar instead, but in the future will perform elementwise comparison\n",
      "  dizi3==dizi4\n"
     ]
    },
    {
     "data": {
      "text/plain": [
       "False"
      ]
     },
     "execution_count": 10,
     "metadata": {},
     "output_type": "execute_result"
    }
   ],
   "source": [
    "dizi3==dizi4"
   ]
  },
  {
   "cell_type": "code",
   "execution_count": 11,
   "id": "71275aa0",
   "metadata": {},
   "outputs": [
    {
     "data": {
      "text/plain": [
       "array([ True, False])"
      ]
     },
     "execution_count": 11,
     "metadata": {},
     "output_type": "execute_result"
    }
   ],
   "source": [
    "dizi==dizi4"
   ]
  },
  {
   "cell_type": "code",
   "execution_count": 12,
   "id": "52e89f57",
   "metadata": {},
   "outputs": [
    {
     "data": {
      "text/plain": [
       "array([False,  True])"
      ]
     },
     "execution_count": 12,
     "metadata": {},
     "output_type": "execute_result"
    }
   ],
   "source": [
    "dizi!=dizi4"
   ]
  },
  {
   "cell_type": "code",
   "execution_count": 13,
   "id": "9bf41775",
   "metadata": {},
   "outputs": [],
   "source": [
    "d1 = np.array([1,2])\n",
    "d2 = np.array([0,5])"
   ]
  },
  {
   "cell_type": "code",
   "execution_count": 14,
   "id": "8c76579f",
   "metadata": {},
   "outputs": [
    {
     "data": {
      "text/plain": [
       "array([False,  True])"
      ]
     },
     "execution_count": 14,
     "metadata": {},
     "output_type": "execute_result"
    }
   ],
   "source": [
    "d1<d2"
   ]
  },
  {
   "cell_type": "code",
   "execution_count": null,
   "id": "5e8ee0f2",
   "metadata": {},
   "outputs": [],
   "source": []
  }
 ],
 "metadata": {
  "kernelspec": {
   "display_name": "Python 3 (ipykernel)",
   "language": "python",
   "name": "python3"
  },
  "language_info": {
   "codemirror_mode": {
    "name": "ipython",
    "version": 3
   },
   "file_extension": ".py",
   "mimetype": "text/x-python",
   "name": "python",
   "nbconvert_exporter": "python",
   "pygments_lexer": "ipython3",
   "version": "3.9.12"
  }
 },
 "nbformat": 4,
 "nbformat_minor": 5
}
