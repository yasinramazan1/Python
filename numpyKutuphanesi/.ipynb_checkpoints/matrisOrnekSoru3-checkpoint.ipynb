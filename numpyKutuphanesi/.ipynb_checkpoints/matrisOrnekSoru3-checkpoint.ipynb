{
 "cells": [
  {
   "cell_type": "code",
   "execution_count": 1,
   "id": "d0484c5b",
   "metadata": {},
   "outputs": [],
   "source": [
    "# Temmuz 2022'nin bütün günlerini gün-ay-yıl şeklinde NumPy kütüphanesini kullanarak\n",
    "# bir array'in içerisine yazdırınız."
   ]
  },
  {
   "cell_type": "code",
   "execution_count": 2,
   "id": "7f284ca8",
   "metadata": {},
   "outputs": [],
   "source": [
    "import numpy as np"
   ]
  },
  {
   "cell_type": "code",
   "execution_count": 4,
   "id": "f3ea7196",
   "metadata": {},
   "outputs": [
    {
     "data": {
      "text/plain": [
       "array(['2022-07-01', '2022-07-02', '2022-07-03', '2022-07-04',\n",
       "       '2022-07-05', '2022-07-06', '2022-07-07', '2022-07-08',\n",
       "       '2022-07-09', '2022-07-10', '2022-07-11', '2022-07-12',\n",
       "       '2022-07-13', '2022-07-14', '2022-07-15', '2022-07-16',\n",
       "       '2022-07-17', '2022-07-18', '2022-07-19', '2022-07-20',\n",
       "       '2022-07-21', '2022-07-22', '2022-07-23', '2022-07-24',\n",
       "       '2022-07-25', '2022-07-26', '2022-07-27', '2022-07-28',\n",
       "       '2022-07-29', '2022-07-30', '2022-07-31'], dtype='datetime64[D]')"
      ]
     },
     "execution_count": 4,
     "metadata": {},
     "output_type": "execute_result"
    }
   ],
   "source": [
    "np.arange(\"2022-07\",\"2022-08\", dtype=\"datetime64[D]\") # D, day, M ise month parametresi olarak girilir."
   ]
  },
  {
   "cell_type": "markdown",
   "id": "1c344110",
   "metadata": {},
   "source": [
    "Extra:\n"
   ]
  },
  {
   "cell_type": "code",
   "execution_count": 5,
   "id": "79f20768",
   "metadata": {},
   "outputs": [],
   "source": [
    "import calendar"
   ]
  },
  {
   "cell_type": "code",
   "execution_count": 6,
   "id": "2952cd94",
   "metadata": {},
   "outputs": [
    {
     "name": "stdout",
     "output_type": "stream",
     "text": [
      "     July 2022\n",
      "Mo Tu We Th Fr Sa Su\n",
      "             1  2  3\n",
      " 4  5  6  7  8  9 10\n",
      "11 12 13 14 15 16 17\n",
      "18 19 20 21 22 23 24\n",
      "25 26 27 28 29 30 31\n",
      "\n"
     ]
    }
   ],
   "source": [
    "print(calendar.month(2022,7))"
   ]
  },
  {
   "cell_type": "code",
   "execution_count": null,
   "id": "574772ce",
   "metadata": {},
   "outputs": [],
   "source": []
  }
 ],
 "metadata": {
  "kernelspec": {
   "display_name": "Python 3 (ipykernel)",
   "language": "python",
   "name": "python3"
  },
  "language_info": {
   "codemirror_mode": {
    "name": "ipython",
    "version": 3
   },
   "file_extension": ".py",
   "mimetype": "text/x-python",
   "name": "python",
   "nbconvert_exporter": "python",
   "pygments_lexer": "ipython3",
   "version": "3.9.12"
  }
 },
 "nbformat": 4,
 "nbformat_minor": 5
}
