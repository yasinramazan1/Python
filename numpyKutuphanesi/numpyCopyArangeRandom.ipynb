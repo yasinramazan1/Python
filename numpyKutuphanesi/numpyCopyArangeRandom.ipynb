{
 "cells": [
  {
   "cell_type": "code",
   "execution_count": 1,
   "id": "d876c27f",
   "metadata": {},
   "outputs": [],
   "source": [
    "import numpy as np\n"
   ]
  },
  {
   "cell_type": "code",
   "execution_count": 3,
   "id": "2f7a8619",
   "metadata": {},
   "outputs": [],
   "source": [
    "matris =np.array([[1,2,3],[4,5,6],[7,8,9]])"
   ]
  },
  {
   "cell_type": "code",
   "execution_count": 4,
   "id": "7cc0bf74",
   "metadata": {},
   "outputs": [
    {
     "data": {
      "text/plain": [
       "array([[1, 2, 3],\n",
       "       [4, 5, 6],\n",
       "       [7, 8, 9]])"
      ]
     },
     "execution_count": 4,
     "metadata": {},
     "output_type": "execute_result"
    }
   ],
   "source": [
    "matris"
   ]
  },
  {
   "cell_type": "code",
   "execution_count": 5,
   "id": "b2613d1c",
   "metadata": {},
   "outputs": [
    {
     "data": {
      "text/plain": [
       "(3, 3)"
      ]
     },
     "execution_count": 5,
     "metadata": {},
     "output_type": "execute_result"
    }
   ],
   "source": [
    "matris.shape"
   ]
  },
  {
   "cell_type": "code",
   "execution_count": 6,
   "id": "6c32ed2d",
   "metadata": {},
   "outputs": [],
   "source": [
    "matris2=matris"
   ]
  },
  {
   "cell_type": "code",
   "execution_count": 7,
   "id": "15fc7469",
   "metadata": {},
   "outputs": [
    {
     "data": {
      "text/plain": [
       "array([[1, 2, 3],\n",
       "       [4, 5, 6],\n",
       "       [7, 8, 9]])"
      ]
     },
     "execution_count": 7,
     "metadata": {},
     "output_type": "execute_result"
    }
   ],
   "source": [
    "matris2"
   ]
  },
  {
   "cell_type": "code",
   "execution_count": 11,
   "id": "2a1f2db0",
   "metadata": {},
   "outputs": [],
   "source": [
    "matris[1,1] = 150"
   ]
  },
  {
   "cell_type": "markdown",
   "id": "6ce3cc12",
   "metadata": {},
   "source": []
  },
  {
   "cell_type": "code",
   "execution_count": 12,
   "id": "ecc1318d",
   "metadata": {},
   "outputs": [
    {
     "data": {
      "text/plain": [
       "array([[  1,   2,   3],\n",
       "       [  4, 150,   6],\n",
       "       [  7,   8,   9]])"
      ]
     },
     "execution_count": 12,
     "metadata": {},
     "output_type": "execute_result"
    }
   ],
   "source": [
    "matris"
   ]
  },
  {
   "cell_type": "code",
   "execution_count": 13,
   "id": "d61f2acd",
   "metadata": {},
   "outputs": [
    {
     "data": {
      "text/plain": [
       "array([[  1,   2,   3],\n",
       "       [  4, 150,   6],\n",
       "       [  7,   8,   9]])"
      ]
     },
     "execution_count": 13,
     "metadata": {},
     "output_type": "execute_result"
    }
   ],
   "source": [
    "matris2"
   ]
  },
  {
   "cell_type": "code",
   "execution_count": 14,
   "id": "2b78b9e5",
   "metadata": {},
   "outputs": [],
   "source": [
    "m1 = np.array([[1,2,3],[4,5,6],[7,8,9]])"
   ]
  },
  {
   "cell_type": "code",
   "execution_count": 19,
   "id": "ec9cf53b",
   "metadata": {},
   "outputs": [],
   "source": [
    "m2 = m1.copy()"
   ]
  },
  {
   "cell_type": "markdown",
   "id": "72f5fd18",
   "metadata": {},
   "source": []
  },
  {
   "cell_type": "code",
   "execution_count": 20,
   "id": "0d6b9914",
   "metadata": {},
   "outputs": [],
   "source": [
    "m1[1,1] = 150"
   ]
  },
  {
   "cell_type": "code",
   "execution_count": 21,
   "id": "6ca84ed7",
   "metadata": {},
   "outputs": [
    {
     "data": {
      "text/plain": [
       "array([[  1,   2,   3],\n",
       "       [  4, 150,   6],\n",
       "       [  7,   8,   9]])"
      ]
     },
     "execution_count": 21,
     "metadata": {},
     "output_type": "execute_result"
    }
   ],
   "source": [
    "m1"
   ]
  },
  {
   "cell_type": "code",
   "execution_count": 22,
   "id": "08b84840",
   "metadata": {},
   "outputs": [
    {
     "data": {
      "text/plain": [
       "array([[1, 2, 3],\n",
       "       [4, 5, 6],\n",
       "       [7, 8, 9]])"
      ]
     },
     "execution_count": 22,
     "metadata": {},
     "output_type": "execute_result"
    }
   ],
   "source": [
    "m2"
   ]
  },
  {
   "cell_type": "code",
   "execution_count": 23,
   "id": "f8031c78",
   "metadata": {},
   "outputs": [],
   "source": [
    "m3 = np.arange(0,10,2) # Sıfırdan başla, 10'a kadar 2'şer ilerle"
   ]
  },
  {
   "cell_type": "code",
   "execution_count": 24,
   "id": "05541148",
   "metadata": {},
   "outputs": [
    {
     "data": {
      "text/plain": [
       "array([0, 2, 4, 6, 8])"
      ]
     },
     "execution_count": 24,
     "metadata": {},
     "output_type": "execute_result"
    }
   ],
   "source": [
    "m3"
   ]
  },
  {
   "cell_type": "code",
   "execution_count": 25,
   "id": "f8e9b827",
   "metadata": {},
   "outputs": [],
   "source": [
    "m4 = np.arange(5,65,6)"
   ]
  },
  {
   "cell_type": "code",
   "execution_count": 26,
   "id": "d74703a7",
   "metadata": {},
   "outputs": [
    {
     "data": {
      "text/plain": [
       "array([ 5, 11, 17, 23, 29, 35, 41, 47, 53, 59])"
      ]
     },
     "execution_count": 26,
     "metadata": {},
     "output_type": "execute_result"
    }
   ],
   "source": [
    "m4"
   ]
  },
  {
   "cell_type": "code",
   "execution_count": 29,
   "id": "4ec774d2",
   "metadata": {},
   "outputs": [],
   "source": [
    "m5 = np.random.rand(1) # 0 ile 1 arasında 1 tane sayı döndürür."
   ]
  },
  {
   "cell_type": "code",
   "execution_count": 30,
   "id": "629f4fc2",
   "metadata": {},
   "outputs": [
    {
     "data": {
      "text/plain": [
       "array([0.14617473])"
      ]
     },
     "execution_count": 30,
     "metadata": {},
     "output_type": "execute_result"
    }
   ],
   "source": [
    "m5"
   ]
  },
  {
   "cell_type": "code",
   "execution_count": 31,
   "id": "5bbd5518",
   "metadata": {},
   "outputs": [],
   "source": [
    "m5 = np.random.rand(4) # 0 ile 1 arasında 4 tane sayı döndürür."
   ]
  },
  {
   "cell_type": "code",
   "execution_count": 32,
   "id": "08e0e239",
   "metadata": {},
   "outputs": [
    {
     "data": {
      "text/plain": [
       "array([0.99868166, 0.76557936, 0.33594809, 0.90931498])"
      ]
     },
     "execution_count": 32,
     "metadata": {},
     "output_type": "execute_result"
    }
   ],
   "source": [
    "m5"
   ]
  },
  {
   "cell_type": "code",
   "execution_count": 33,
   "id": "f34b5f92",
   "metadata": {},
   "outputs": [],
   "source": [
    "m6 = np.random.rand(8)*10 # 8 tane sayı döndürür."
   ]
  },
  {
   "cell_type": "code",
   "execution_count": 34,
   "id": "ee3ddae1",
   "metadata": {},
   "outputs": [
    {
     "data": {
      "text/plain": [
       "array([4.66405478, 3.42911073, 5.23939026, 6.63196219, 1.65952029,\n",
       "       1.97018548, 8.73794192, 7.60625113])"
      ]
     },
     "execution_count": 34,
     "metadata": {},
     "output_type": "execute_result"
    }
   ],
   "source": [
    "m6"
   ]
  },
  {
   "cell_type": "code",
   "execution_count": 35,
   "id": "b65aa903",
   "metadata": {},
   "outputs": [],
   "source": [
    "m7 = np.random.rand(2,2) # 2*2'lik bir matris döndürür."
   ]
  },
  {
   "cell_type": "code",
   "execution_count": 36,
   "id": "25ce4fe1",
   "metadata": {},
   "outputs": [
    {
     "data": {
      "text/plain": [
       "array([[0.05976378, 0.48633669],\n",
       "       [0.11307463, 0.94504303]])"
      ]
     },
     "execution_count": 36,
     "metadata": {},
     "output_type": "execute_result"
    }
   ],
   "source": [
    "m7"
   ]
  },
  {
   "cell_type": "code",
   "execution_count": null,
   "id": "3410dcc9",
   "metadata": {},
   "outputs": [],
   "source": []
  }
 ],
 "metadata": {
  "kernelspec": {
   "display_name": "Python 3 (ipykernel)",
   "language": "python",
   "name": "python3"
  },
  "language_info": {
   "codemirror_mode": {
    "name": "ipython",
    "version": 3
   },
   "file_extension": ".py",
   "mimetype": "text/x-python",
   "name": "python",
   "nbconvert_exporter": "python",
   "pygments_lexer": "ipython3",
   "version": "3.9.12"
  }
 },
 "nbformat": 4,
 "nbformat_minor": 5
}
