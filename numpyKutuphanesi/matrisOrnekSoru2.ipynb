{
 "cells": [
  {
   "cell_type": "code",
   "execution_count": 1,
   "id": "436e61bb",
   "metadata": {},
   "outputs": [],
   "source": [
    "# İki basamaklı rastgele tamsayılardan oluşan 3*3'lük bir matris oluşturun.\n",
    "# Oluşturduğunuz matrisin transpozunu alınız."
   ]
  },
  {
   "cell_type": "code",
   "execution_count": 2,
   "id": "62d71781",
   "metadata": {},
   "outputs": [],
   "source": [
    "import numpy as np"
   ]
  },
  {
   "cell_type": "code",
   "execution_count": 3,
   "id": "56fd1891",
   "metadata": {},
   "outputs": [],
   "source": [
    "matris = np.random.rand(3,3)*100"
   ]
  },
  {
   "cell_type": "code",
   "execution_count": 4,
   "id": "a0722219",
   "metadata": {},
   "outputs": [
    {
     "data": {
      "text/plain": [
       "array([[13.5345803 ,  3.47549105,  8.40909131],\n",
       "       [54.66403814, 23.8760067 , 18.80769103],\n",
       "       [85.61809361, 11.74141769, 89.37398598]])"
      ]
     },
     "execution_count": 4,
     "metadata": {},
     "output_type": "execute_result"
    }
   ],
   "source": [
    "matris"
   ]
  },
  {
   "cell_type": "code",
   "execution_count": 5,
   "id": "e184ec09",
   "metadata": {},
   "outputs": [
    {
     "data": {
      "text/plain": [
       "array([[14.,  3.,  8.],\n",
       "       [55., 24., 19.],\n",
       "       [86., 12., 89.]])"
      ]
     },
     "execution_count": 5,
     "metadata": {},
     "output_type": "execute_result"
    }
   ],
   "source": [
    "matris.round()"
   ]
  },
  {
   "cell_type": "code",
   "execution_count": 6,
   "id": "6026c6d6",
   "metadata": {},
   "outputs": [
    {
     "data": {
      "text/plain": [
       "array([[13.5345803 , 54.66403814, 85.61809361],\n",
       "       [ 3.47549105, 23.8760067 , 11.74141769],\n",
       "       [ 8.40909131, 18.80769103, 89.37398598]])"
      ]
     },
     "execution_count": 6,
     "metadata": {},
     "output_type": "execute_result"
    }
   ],
   "source": [
    "matris.T"
   ]
  },
  {
   "cell_type": "code",
   "execution_count": 7,
   "id": "ca715ea5",
   "metadata": {},
   "outputs": [
    {
     "data": {
      "text/plain": [
       "array([[14., 55., 86.],\n",
       "       [ 3., 24., 12.],\n",
       "       [ 8., 19., 89.]])"
      ]
     },
     "execution_count": 7,
     "metadata": {},
     "output_type": "execute_result"
    }
   ],
   "source": [
    "matris.T.round()"
   ]
  },
  {
   "cell_type": "code",
   "execution_count": null,
   "id": "c3242265",
   "metadata": {},
   "outputs": [],
   "source": []
  }
 ],
 "metadata": {
  "kernelspec": {
   "display_name": "Python 3 (ipykernel)",
   "language": "python",
   "name": "python3"
  },
  "language_info": {
   "codemirror_mode": {
    "name": "ipython",
    "version": 3
   },
   "file_extension": ".py",
   "mimetype": "text/x-python",
   "name": "python",
   "nbconvert_exporter": "python",
   "pygments_lexer": "ipython3",
   "version": "3.9.12"
  }
 },
 "nbformat": 4,
 "nbformat_minor": 5
}
