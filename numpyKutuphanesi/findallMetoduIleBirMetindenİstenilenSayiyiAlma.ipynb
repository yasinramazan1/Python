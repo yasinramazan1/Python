{
 "cells": [
  {
   "cell_type": "code",
   "execution_count": 1,
   "id": "bb31e1bc",
   "metadata": {},
   "outputs": [
    {
     "name": "stdout",
     "output_type": "stream",
     "text": [
      "['$20000', '$25000']\n"
     ]
    }
   ],
   "source": [
    "import re\n",
    "x = \"2020 yılında ortalama fiyat $20000 olurken 2021'de $25000 dolara yükseldi.\"\n",
    "y = re.findall(\"\\$[0-9.]+\", x)\n",
    "print(y)"
   ]
  },
  {
   "cell_type": "code",
   "execution_count": null,
   "id": "1065bb37",
   "metadata": {},
   "outputs": [],
   "source": []
  }
 ],
 "metadata": {
  "kernelspec": {
   "display_name": "Python 3 (ipykernel)",
   "language": "python",
   "name": "python3"
  },
  "language_info": {
   "codemirror_mode": {
    "name": "ipython",
    "version": 3
   },
   "file_extension": ".py",
   "mimetype": "text/x-python",
   "name": "python",
   "nbconvert_exporter": "python",
   "pygments_lexer": "ipython3",
   "version": "3.9.12"
  }
 },
 "nbformat": 4,
 "nbformat_minor": 5
}
