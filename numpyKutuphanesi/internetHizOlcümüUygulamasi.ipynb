{
 "cells": [
  {
   "cell_type": "code",
   "execution_count": 1,
   "id": "274f0d21",
   "metadata": {},
   "outputs": [],
   "source": [
    "import speedtest"
   ]
  },
  {
   "cell_type": "code",
   "execution_count": 3,
   "id": "457223d9",
   "metadata": {},
   "outputs": [
    {
     "name": "stdout",
     "output_type": "stream",
     "text": [
      "indirme hızı= 10 \n",
      "yükleme hızı= 4 \n"
     ]
    }
   ],
   "source": [
    "test = speedtest.Speedtest()\n",
    "indirme = test.download()\n",
    "yukleme = test.upload()\n",
    "indirme=indirme/1000000\n",
    "yukleme=yukleme/1000000\n",
    "print(\"indirme hızı= %d \" %((indirme)))\n",
    "print(\"yükleme hızı= %d \" %((yukleme)))\n"
   ]
  },
  {
   "cell_type": "code",
   "execution_count": null,
   "id": "79e4f527",
   "metadata": {},
   "outputs": [],
   "source": []
  }
 ],
 "metadata": {
  "kernelspec": {
   "display_name": "Python 3 (ipykernel)",
   "language": "python",
   "name": "python3"
  },
  "language_info": {
   "codemirror_mode": {
    "name": "ipython",
    "version": 3
   },
   "file_extension": ".py",
   "mimetype": "text/x-python",
   "name": "python",
   "nbconvert_exporter": "python",
   "pygments_lexer": "ipython3",
   "version": "3.9.12"
  }
 },
 "nbformat": 4,
 "nbformat_minor": 5
}
