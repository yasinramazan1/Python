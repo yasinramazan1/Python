{
 "cells": [
  {
   "cell_type": "code",
   "execution_count": 1,
   "id": "671a95be",
   "metadata": {},
   "outputs": [],
   "source": [
    "# 2*3'lük bir A matrisi oluşturun,\n",
    "# 3*2'lik bir B matrisi oluşturun,\n",
    "# A ve B matrislerinin çarpımını bir C matrisine eşitleyiniz."
   ]
  },
  {
   "cell_type": "code",
   "execution_count": 2,
   "id": "68b62294",
   "metadata": {},
   "outputs": [],
   "source": [
    "import numpy as np "
   ]
  },
  {
   "cell_type": "code",
   "execution_count": 3,
   "id": "0f71ba19",
   "metadata": {},
   "outputs": [],
   "source": [
    "# Matrislerde çarpma işlemi yapabilmek için birinci matrisin satır sayısı\n",
    "# ikinci matrisin sütun sayısına eşit olmalıdır."
   ]
  },
  {
   "cell_type": "code",
   "execution_count": 5,
   "id": "1bf422dc",
   "metadata": {},
   "outputs": [],
   "source": [
    "A = np.random.rand(2,3)*10\n",
    "B = np.random.rand(3,2)*10"
   ]
  },
  {
   "cell_type": "code",
   "execution_count": 6,
   "id": "b697b923",
   "metadata": {},
   "outputs": [
    {
     "data": {
      "text/plain": [
       "array([[4.37761701, 9.01994544, 2.46040388],\n",
       "       [4.73247718, 6.03707383, 5.53975611]])"
      ]
     },
     "execution_count": 6,
     "metadata": {},
     "output_type": "execute_result"
    }
   ],
   "source": [
    "A"
   ]
  },
  {
   "cell_type": "code",
   "execution_count": 7,
   "id": "88d403fa",
   "metadata": {},
   "outputs": [
    {
     "data": {
      "text/plain": [
       "array([[9.60062372, 2.69167729],\n",
       "       [1.79933644, 3.80943869],\n",
       "       [2.03719017, 0.3699265 ]])"
      ]
     },
     "execution_count": 7,
     "metadata": {},
     "output_type": "execute_result"
    }
   ],
   "source": [
    "B"
   ]
  },
  {
   "cell_type": "code",
   "execution_count": 11,
   "id": "b946397f",
   "metadata": {},
   "outputs": [
    {
     "data": {
      "text/plain": [
       "array([[4., 9., 2.],\n",
       "       [5., 6., 6.]])"
      ]
     },
     "execution_count": 11,
     "metadata": {},
     "output_type": "execute_result"
    }
   ],
   "source": [
    "A.round()"
   ]
  },
  {
   "cell_type": "code",
   "execution_count": 12,
   "id": "99c6ed55",
   "metadata": {},
   "outputs": [
    {
     "data": {
      "text/plain": [
       "array([[10.,  3.],\n",
       "       [ 2.,  4.],\n",
       "       [ 2.,  0.]])"
      ]
     },
     "execution_count": 12,
     "metadata": {},
     "output_type": "execute_result"
    }
   ],
   "source": [
    "B.round()"
   ]
  },
  {
   "cell_type": "code",
   "execution_count": 13,
   "id": "a3a47829",
   "metadata": {},
   "outputs": [],
   "source": [
    "C = np.dot(A,B) # dot() fonksiyonu iki matrisin çarpımını döndürür."
   ]
  },
  {
   "cell_type": "code",
   "execution_count": 14,
   "id": "5f8a5ce2",
   "metadata": {},
   "outputs": [
    {
     "data": {
      "text/plain": [
       "array([[63.27008082, 47.05423006],\n",
       "       [67.58299623, 37.78546654]])"
      ]
     },
     "execution_count": 14,
     "metadata": {},
     "output_type": "execute_result"
    }
   ],
   "source": [
    "C"
   ]
  },
  {
   "cell_type": "code",
   "execution_count": 15,
   "id": "6c5db7fd",
   "metadata": {},
   "outputs": [
    {
     "data": {
      "text/plain": [
       "array([[63., 47.],\n",
       "       [68., 38.]])"
      ]
     },
     "execution_count": 15,
     "metadata": {},
     "output_type": "execute_result"
    }
   ],
   "source": [
    "C.round()"
   ]
  },
  {
   "cell_type": "code",
   "execution_count": null,
   "id": "9ba7c892",
   "metadata": {},
   "outputs": [],
   "source": []
  }
 ],
 "metadata": {
  "kernelspec": {
   "display_name": "Python 3 (ipykernel)",
   "language": "python",
   "name": "python3"
  },
  "language_info": {
   "codemirror_mode": {
    "name": "ipython",
    "version": 3
   },
   "file_extension": ".py",
   "mimetype": "text/x-python",
   "name": "python",
   "nbconvert_exporter": "python",
   "pygments_lexer": "ipython3",
   "version": "3.9.12"
  }
 },
 "nbformat": 4,
 "nbformat_minor": 5
}
