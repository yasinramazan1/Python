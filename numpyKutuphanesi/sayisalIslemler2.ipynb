{
 "cells": [
  {
   "cell_type": "code",
   "execution_count": 1,
   "id": "503d78a4",
   "metadata": {},
   "outputs": [],
   "source": [
    "import numpy as np "
   ]
  },
  {
   "cell_type": "code",
   "execution_count": 2,
   "id": "d3d2f736",
   "metadata": {},
   "outputs": [
    {
     "data": {
      "text/plain": [
       "array([[1, 2, 3],\n",
       "       [4, 5, 6],\n",
       "       [7, 8, 9]])"
      ]
     },
     "execution_count": 2,
     "metadata": {},
     "output_type": "execute_result"
    }
   ],
   "source": [
    "dizi = np.array(([1,2,3],\n",
    "                [4,5,6],\n",
    "                [7,8,9]\n",
    "               ))\n",
    "dizi"
   ]
  },
  {
   "cell_type": "code",
   "execution_count": 3,
   "id": "2b88fb8e",
   "metadata": {},
   "outputs": [
    {
     "data": {
      "text/plain": [
       "1"
      ]
     },
     "execution_count": 3,
     "metadata": {},
     "output_type": "execute_result"
    }
   ],
   "source": [
    "dizi.min()"
   ]
  },
  {
   "cell_type": "code",
   "execution_count": 4,
   "id": "014c71fa",
   "metadata": {},
   "outputs": [
    {
     "data": {
      "text/plain": [
       "<function ndarray.max>"
      ]
     },
     "execution_count": 4,
     "metadata": {},
     "output_type": "execute_result"
    }
   ],
   "source": [
    "dizi.max"
   ]
  },
  {
   "cell_type": "code",
   "execution_count": 5,
   "id": "59d8f4bb",
   "metadata": {},
   "outputs": [
    {
     "data": {
      "text/plain": [
       "9"
      ]
     },
     "execution_count": 5,
     "metadata": {},
     "output_type": "execute_result"
    }
   ],
   "source": [
    "dizi.max()"
   ]
  },
  {
   "cell_type": "code",
   "execution_count": 6,
   "id": "41ddd4ec",
   "metadata": {},
   "outputs": [
    {
     "data": {
      "text/plain": [
       "0"
      ]
     },
     "execution_count": 6,
     "metadata": {},
     "output_type": "execute_result"
    }
   ],
   "source": [
    "dizi.argmin() # Bir fonksiyonun minimum noktası. Dizinin minimum noktası."
   ]
  },
  {
   "cell_type": "code",
   "execution_count": 7,
   "id": "5f686b45",
   "metadata": {},
   "outputs": [
    {
     "data": {
      "text/plain": [
       "45"
      ]
     },
     "execution_count": 7,
     "metadata": {},
     "output_type": "execute_result"
    }
   ],
   "source": [
    "dizi.sum()"
   ]
  },
  {
   "cell_type": "code",
   "execution_count": 8,
   "id": "6a9dd91e",
   "metadata": {},
   "outputs": [
    {
     "data": {
      "text/plain": [
       "5.0"
      ]
     },
     "execution_count": 8,
     "metadata": {},
     "output_type": "execute_result"
    }
   ],
   "source": [
    "dizi.mean() # ortalama alır."
   ]
  },
  {
   "cell_type": "code",
   "execution_count": 9,
   "id": "c7d34920",
   "metadata": {},
   "outputs": [
    {
     "data": {
      "text/plain": [
       "array([2., 5., 8.])"
      ]
     },
     "execution_count": 9,
     "metadata": {},
     "output_type": "execute_result"
    }
   ],
   "source": [
    "dizi.mean(axis=1) # satırların ortalaması yani row'ların."
   ]
  },
  {
   "cell_type": "code",
   "execution_count": 10,
   "id": "78354ab5",
   "metadata": {},
   "outputs": [
    {
     "data": {
      "text/plain": [
       "2.581988897471611"
      ]
     },
     "execution_count": 10,
     "metadata": {},
     "output_type": "execute_result"
    }
   ],
   "source": [
    "dizi.std() # standart sapmayı hesaplar."
   ]
  },
  {
   "cell_type": "code",
   "execution_count": 11,
   "id": "e5224b41",
   "metadata": {},
   "outputs": [
    {
     "data": {
      "text/plain": [
       "array([0.81649658, 0.81649658, 0.81649658])"
      ]
     },
     "execution_count": 11,
     "metadata": {},
     "output_type": "execute_result"
    }
   ],
   "source": [
    "dizi.std(axis=1)"
   ]
  },
  {
   "cell_type": "code",
   "execution_count": 12,
   "id": "d0497948",
   "metadata": {},
   "outputs": [
    {
     "data": {
      "text/plain": [
       "6.666666666666667"
      ]
     },
     "execution_count": 12,
     "metadata": {},
     "output_type": "execute_result"
    }
   ],
   "source": [
    "dizi.var() # varyansı hesaplar."
   ]
  },
  {
   "cell_type": "code",
   "execution_count": 13,
   "id": "26da2a72",
   "metadata": {},
   "outputs": [
    {
     "data": {
      "text/plain": [
       "array([[2, 2, 3],\n",
       "       [4, 5, 5],\n",
       "       [5, 5, 5]])"
      ]
     },
     "execution_count": 13,
     "metadata": {},
     "output_type": "execute_result"
    }
   ],
   "source": [
    "dizi.clip(2,5) # Dizideki bütün elemanları bu aralığa çevirir."
   ]
  },
  {
   "cell_type": "code",
   "execution_count": 14,
   "id": "f3fde074",
   "metadata": {},
   "outputs": [],
   "source": [
    "dizi2=np.random.rand(3,3)*10"
   ]
  },
  {
   "cell_type": "code",
   "execution_count": 15,
   "id": "645e0dee",
   "metadata": {},
   "outputs": [
    {
     "data": {
      "text/plain": [
       "array([[1.56173771, 6.35297958, 9.59800446],\n",
       "       [7.41795243, 8.64300886, 5.7534486 ],\n",
       "       [3.45031448, 1.8988925 , 9.16715822]])"
      ]
     },
     "execution_count": 15,
     "metadata": {},
     "output_type": "execute_result"
    }
   ],
   "source": [
    "dizi2"
   ]
  },
  {
   "cell_type": "code",
   "execution_count": 16,
   "id": "9695b061",
   "metadata": {},
   "outputs": [
    {
     "data": {
      "text/plain": [
       "array([[ 2.,  6., 10.],\n",
       "       [ 7.,  9.,  6.],\n",
       "       [ 3.,  2.,  9.]])"
      ]
     },
     "execution_count": 16,
     "metadata": {},
     "output_type": "execute_result"
    }
   ],
   "source": [
    "dizi2.round() # Sayıları yuvarlar."
   ]
  },
  {
   "cell_type": "code",
   "execution_count": 17,
   "id": "7289fe9c",
   "metadata": {},
   "outputs": [
    {
     "data": {
      "text/plain": [
       "array([[4.739866  , 2.35042699, 0.3443157 ],\n",
       "       [8.8464978 , 1.94733782, 6.58538762],\n",
       "       [9.75330609, 8.35905811, 0.84022488]])"
      ]
     },
     "execution_count": 17,
     "metadata": {},
     "output_type": "execute_result"
    }
   ],
   "source": [
    "dizi3=np.random.rand(3,3)*10\n",
    "dizi3"
   ]
  },
  {
   "cell_type": "code",
   "execution_count": 18,
   "id": "24cd4edb",
   "metadata": {},
   "outputs": [
    {
     "data": {
      "text/plain": [
       "array([[4.74, 2.35, 0.34],\n",
       "       [8.85, 1.95, 6.59],\n",
       "       [9.75, 8.36, 0.84]])"
      ]
     },
     "execution_count": 18,
     "metadata": {},
     "output_type": "execute_result"
    }
   ],
   "source": [
    "dizi3.round(decimals=2) # virgülden sonraki hassasiyeti ayarlar."
   ]
  },
  {
   "cell_type": "code",
   "execution_count": null,
   "id": "c16027ad",
   "metadata": {},
   "outputs": [],
   "source": []
  }
 ],
 "metadata": {
  "kernelspec": {
   "display_name": "Python 3 (ipykernel)",
   "language": "python",
   "name": "python3"
  },
  "language_info": {
   "codemirror_mode": {
    "name": "ipython",
    "version": 3
   },
   "file_extension": ".py",
   "mimetype": "text/x-python",
   "name": "python",
   "nbconvert_exporter": "python",
   "pygments_lexer": "ipython3",
   "version": "3.9.12"
  }
 },
 "nbformat": 4,
 "nbformat_minor": 5
}
