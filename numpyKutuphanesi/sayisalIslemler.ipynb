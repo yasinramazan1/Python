{
 "cells": [
  {
   "cell_type": "code",
   "execution_count": 1,
   "id": "21cfee91",
   "metadata": {},
   "outputs": [],
   "source": [
    "import numpy as np\n"
   ]
  },
  {
   "cell_type": "code",
   "execution_count": 2,
   "id": "7f50d1a2",
   "metadata": {},
   "outputs": [
    {
     "data": {
      "text/plain": [
       "array([[ 5, 15, 25],\n",
       "       [35, 45, 55]])"
      ]
     },
     "execution_count": 2,
     "metadata": {},
     "output_type": "execute_result"
    }
   ],
   "source": [
    "dizi = np.array([[5,15,25],[35,45,55]])\n",
    "dizi"
   ]
  },
  {
   "cell_type": "code",
   "execution_count": 3,
   "id": "fc002c51",
   "metadata": {},
   "outputs": [
    {
     "data": {
      "text/plain": [
       "180"
      ]
     },
     "execution_count": 3,
     "metadata": {},
     "output_type": "execute_result"
    }
   ],
   "source": [
    "np.sum(dizi) # hepsini toplar."
   ]
  },
  {
   "cell_type": "code",
   "execution_count": 4,
   "id": "74bc8f32",
   "metadata": {},
   "outputs": [
    {
     "data": {
      "text/plain": [
       "162421875"
      ]
     },
     "execution_count": 4,
     "metadata": {},
     "output_type": "execute_result"
    }
   ],
   "source": [
    "np.prod(dizi) # hepsini çarpar."
   ]
  },
  {
   "cell_type": "code",
   "execution_count": 5,
   "id": "88286741",
   "metadata": {},
   "outputs": [
    {
     "data": {
      "text/plain": [
       "135"
      ]
     },
     "execution_count": 5,
     "metadata": {},
     "output_type": "execute_result"
    }
   ],
   "source": [
    "np.sum(dizi[1:,:])"
   ]
  },
  {
   "cell_type": "code",
   "execution_count": 6,
   "id": "133d3d23",
   "metadata": {},
   "outputs": [
    {
     "data": {
      "text/plain": [
       "array([ 45, 135])"
      ]
     },
     "execution_count": 6,
     "metadata": {},
     "output_type": "execute_result"
    }
   ],
   "source": [
    "np.sum(dizi, axis=1) # axis=1 demek, satırları kendi arasında topla demektir."
   ]
  },
  {
   "cell_type": "code",
   "execution_count": 7,
   "id": "e2e5ff34",
   "metadata": {},
   "outputs": [
    {
     "data": {
      "text/plain": [
       "array([[ 5, 15, 25],\n",
       "       [35, 45, 55]])"
      ]
     },
     "execution_count": 7,
     "metadata": {},
     "output_type": "execute_result"
    }
   ],
   "source": [
    "dizi"
   ]
  },
  {
   "cell_type": "code",
   "execution_count": 8,
   "id": "b466f5e9",
   "metadata": {},
   "outputs": [
    {
     "data": {
      "text/plain": [
       "array([40, 60, 80])"
      ]
     },
     "execution_count": 8,
     "metadata": {},
     "output_type": "execute_result"
    }
   ],
   "source": [
    "np.sum(dizi, axis=0) # sütunları kendi arasında topla demektir."
   ]
  },
  {
   "cell_type": "code",
   "execution_count": 9,
   "id": "8d2d5bce",
   "metadata": {},
   "outputs": [
    {
     "data": {
      "text/plain": [
       "array([ 175,  675, 1375])"
      ]
     },
     "execution_count": 9,
     "metadata": {},
     "output_type": "execute_result"
    }
   ],
   "source": [
    "np.prod(dizi, axis=0)"
   ]
  },
  {
   "cell_type": "code",
   "execution_count": null,
   "id": "00ca258d",
   "metadata": {},
   "outputs": [],
   "source": []
  }
 ],
 "metadata": {
  "kernelspec": {
   "display_name": "Python 3 (ipykernel)",
   "language": "python",
   "name": "python3"
  },
  "language_info": {
   "codemirror_mode": {
    "name": "ipython",
    "version": 3
   },
   "file_extension": ".py",
   "mimetype": "text/x-python",
   "name": "python",
   "nbconvert_exporter": "python",
   "pygments_lexer": "ipython3",
   "version": "3.9.12"
  }
 },
 "nbformat": 4,
 "nbformat_minor": 5
}
