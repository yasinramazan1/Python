{
 "cells": [
  {
   "cell_type": "code",
   "execution_count": 1,
   "id": "6400f388",
   "metadata": {},
   "outputs": [],
   "source": [
    "liste = [1,2,3,\"4\"]"
   ]
  },
  {
   "cell_type": "code",
   "execution_count": 2,
   "id": "9bc1df99",
   "metadata": {},
   "outputs": [
    {
     "data": {
      "text/plain": [
       "list"
      ]
     },
     "execution_count": 2,
     "metadata": {},
     "output_type": "execute_result"
    }
   ],
   "source": [
    "type(liste)"
   ]
  },
  {
   "cell_type": "code",
   "execution_count": 3,
   "id": "883f0b59",
   "metadata": {},
   "outputs": [],
   "source": [
    "import numpy as np"
   ]
  },
  {
   "cell_type": "code",
   "execution_count": 4,
   "id": "80874aa4",
   "metadata": {},
   "outputs": [],
   "source": [
    "dizi = np.array(liste)"
   ]
  },
  {
   "cell_type": "code",
   "execution_count": 5,
   "id": "83c3605d",
   "metadata": {},
   "outputs": [
    {
     "data": {
      "text/plain": [
       "array(['1', '2', '3', '4'], dtype='<U11')"
      ]
     },
     "execution_count": 5,
     "metadata": {},
     "output_type": "execute_result"
    }
   ],
   "source": [
    "dizi"
   ]
  },
  {
   "cell_type": "code",
   "execution_count": 6,
   "id": "6c4aec47",
   "metadata": {},
   "outputs": [
    {
     "data": {
      "text/plain": [
       "numpy.ndarray"
      ]
     },
     "execution_count": 6,
     "metadata": {},
     "output_type": "execute_result"
    }
   ],
   "source": [
    "type(dizi)"
   ]
  },
  {
   "cell_type": "code",
   "execution_count": 7,
   "id": "639554a2",
   "metadata": {},
   "outputs": [
    {
     "data": {
      "text/plain": [
       "(4,)"
      ]
     },
     "execution_count": 7,
     "metadata": {},
     "output_type": "execute_result"
    }
   ],
   "source": [
    "dizi.shape"
   ]
  },
  {
   "cell_type": "code",
   "execution_count": 8,
   "id": "45b08557",
   "metadata": {},
   "outputs": [
    {
     "data": {
      "text/plain": [
       "1"
      ]
     },
     "execution_count": 8,
     "metadata": {},
     "output_type": "execute_result"
    }
   ],
   "source": [
    "dizi.ndim"
   ]
  },
  {
   "cell_type": "code",
   "execution_count": 13,
   "id": "a440f7f7",
   "metadata": {},
   "outputs": [],
   "source": [
    "liste2 = ([1,2],[3,4])"
   ]
  },
  {
   "cell_type": "code",
   "execution_count": 14,
   "id": "ab6ebde2",
   "metadata": {},
   "outputs": [
    {
     "data": {
      "text/plain": [
       "([1, 2], [3, 4])"
      ]
     },
     "execution_count": 14,
     "metadata": {},
     "output_type": "execute_result"
    }
   ],
   "source": [
    "liste2"
   ]
  },
  {
   "cell_type": "code",
   "execution_count": 15,
   "id": "5572f06f",
   "metadata": {},
   "outputs": [
    {
     "data": {
      "text/plain": [
       "tuple"
      ]
     },
     "execution_count": 15,
     "metadata": {},
     "output_type": "execute_result"
    }
   ],
   "source": [
    "type(liste2)"
   ]
  },
  {
   "cell_type": "code",
   "execution_count": 16,
   "id": "ff8554b4",
   "metadata": {},
   "outputs": [],
   "source": [
    "dizi2= np.array(liste2)"
   ]
  },
  {
   "cell_type": "code",
   "execution_count": 17,
   "id": "b63aceca",
   "metadata": {},
   "outputs": [
    {
     "data": {
      "text/plain": [
       "array([[1, 2],\n",
       "       [3, 4]])"
      ]
     },
     "execution_count": 17,
     "metadata": {},
     "output_type": "execute_result"
    }
   ],
   "source": [
    "dizi2"
   ]
  },
  {
   "cell_type": "code",
   "execution_count": 18,
   "id": "fd8dbf9e",
   "metadata": {},
   "outputs": [
    {
     "data": {
      "text/plain": [
       "2"
      ]
     },
     "execution_count": 18,
     "metadata": {},
     "output_type": "execute_result"
    }
   ],
   "source": [
    "dizi2.ndim"
   ]
  },
  {
   "cell_type": "code",
   "execution_count": 19,
   "id": "3701998b",
   "metadata": {},
   "outputs": [
    {
     "data": {
      "text/plain": [
       "(2, 2)"
      ]
     },
     "execution_count": 19,
     "metadata": {},
     "output_type": "execute_result"
    }
   ],
   "source": [
    "dizi2.shape"
   ]
  },
  {
   "cell_type": "code",
   "execution_count": 20,
   "id": "1eb36ec9",
   "metadata": {},
   "outputs": [],
   "source": [
    "dizi2.fill(5)"
   ]
  },
  {
   "cell_type": "code",
   "execution_count": 21,
   "id": "7911c74f",
   "metadata": {},
   "outputs": [
    {
     "data": {
      "text/plain": [
       "array([[5, 5],\n",
       "       [5, 5]])"
      ]
     },
     "execution_count": 21,
     "metadata": {},
     "output_type": "execute_result"
    }
   ],
   "source": [
    "dizi2"
   ]
  },
  {
   "cell_type": "code",
   "execution_count": null,
   "id": "1bbed81b",
   "metadata": {},
   "outputs": [],
   "source": []
  }
 ],
 "metadata": {
  "kernelspec": {
   "display_name": "Python 3 (ipykernel)",
   "language": "python",
   "name": "python3"
  },
  "language_info": {
   "codemirror_mode": {
    "name": "ipython",
    "version": 3
   },
   "file_extension": ".py",
   "mimetype": "text/x-python",
   "name": "python",
   "nbconvert_exporter": "python",
   "pygments_lexer": "ipython3",
   "version": "3.9.12"
  }
 },
 "nbformat": 4,
 "nbformat_minor": 5
}
